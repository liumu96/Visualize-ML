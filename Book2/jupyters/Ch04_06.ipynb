{
 "cells": [
  {
   "cell_type": "code",
   "execution_count": 1,
   "id": "ca0e1d77-3b13-42bb-961a-487357264fc2",
   "metadata": {
    "tags": []
   },
   "outputs": [],
   "source": [
    "from mpl_toolkits.mplot3d import axes3d\n",
    "import matplotlib.pyplot as plt\n",
    "import numpy as np\n",
    "\n",
    "import os\n",
    "\n",
    "# 如果文件夹不存在，创建文件夹\n",
    "if not os.path.isdir(\"Figures\"):\n",
    "    os.makedirs(\"Figures\")"
   ]
  },
  {
   "cell_type": "code",
   "execution_count": 2,
   "id": "6b82f1e6-2bc1-43b4-b7af-a21c4ddcaf42",
   "metadata": {
    "tags": []
   },
   "outputs": [],
   "source": [
    "X, Y, Z = axes3d.get_test_data(0.05)"
   ]
  },
  {
   "cell_type": "code",
   "execution_count": null,
   "id": "28ea92f8-7ea6-4afb-903e-92a9df1f11ff",
   "metadata": {},
   "outputs": [],
   "source": [
    "fig = plt.figure(figsize = (12,12),constrained_layout=True)\n",
    "\n",
    "angle_array = np.linspace(0, 180, 13)\n",
    "num_grid = len(angle_array)\n",
    "gspec = fig.add_gridspec(num_grid, num_grid)\n",
    "\n",
    "nrows, ncols = gspec.get_geometry()\n",
    "\n",
    "axs = np.array([[fig.add_subplot(gspec[i, j], projection='3d') for j in range(ncols)] for i in range(nrows)])\n",
    "\n",
    "for i in range(nrows):\n",
    "    \n",
    "    elev = angle_array[i]\n",
    "    \n",
    "    for j in range(ncols):\n",
    "        \n",
    "        azim = angle_array[j]\n",
    "\n",
    "        axs[i, j].plot_wireframe(X, Y, Z, rstride=10, cstride=10)\n",
    "        # axs[i, j].quiver(0, 0, 0, u, v, w, length=0.1, normalize=True)\n",
    "        \n",
    "        axs[i, j].set_proj_type('ortho') \n",
    "        axs[i, j].grid('off')\n",
    "        axs[i, j].set_xticks([])\n",
    "        axs[i, j].set_yticks([])\n",
    "        axs[i, j].set_zticks([])\n",
    "        axs[i, j].set_xlim(X.min(),X.max())\n",
    "        axs[i, j].set_ylim(Y.min(),Y.max())\n",
    "        axs[i, j].set_zlim(Z.min(),Z.max())\n",
    "        \n",
    "        axs[i, j].view_init(elev=elev, azim=azim)\n",
    "\n",
    "fig.savefig('Figures/子图，三维曲面视角.svg', format='svg')\n",
    "plt.show()"
   ]
  }
 ],
 "metadata": {
  "kernelspec": {
   "display_name": "Python 3 (ipykernel)",
   "language": "python",
   "name": "python3"
  },
  "language_info": {
   "codemirror_mode": {
    "name": "ipython",
    "version": 3
   },
   "file_extension": ".py",
   "mimetype": "text/x-python",
   "name": "python",
   "nbconvert_exporter": "python",
   "pygments_lexer": "ipython3",
   "version": "3.11.5"
  }
 },
 "nbformat": 4,
 "nbformat_minor": 5
}
