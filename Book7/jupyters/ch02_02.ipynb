{
 "cells": [
  {
   "cell_type": "code",
   "execution_count": 1,
   "id": "36ea4556-9150-48a0-b208-edff4b4ef5ea",
   "metadata": {
    "tags": []
   },
   "outputs": [],
   "source": [
    "import pandas as pd\n",
    "import seaborn as sns\n",
    "import matplotlib.pyplot as plt\n",
    "import numpy as np\n",
    "import scipy.stats as stats\n",
    "import statsmodels.api as sm\n",
    "import yfinance as yf"
   ]
  },
  {
   "cell_type": "code",
   "execution_count": 20,
   "id": "bf9d22f3-5507-4589-9036-119c4d88b542",
   "metadata": {
    "tags": []
   },
   "outputs": [],
   "source": [
    "p = plt.rcParams\n",
    "# p[\"font.sans-serif\"] = [\"Roboto\"]\n",
    "p[\"font.weight\"] = \"light\"\n",
    "p[\"ytick.minor.visible\"] = False\n",
    "p[\"xtick.minor.visible\"] = False\n",
    "p[\"axes.grid\"] = True\n",
    "p[\"grid.color\"] = \"0.5\"\n",
    "p[\"grid.linewidth\"] = 0.5"
   ]
  },
  {
   "cell_type": "code",
   "execution_count": 3,
   "id": "068dc0fc-290d-4d3e-b0de-9c8d5340af97",
   "metadata": {
    "tags": []
   },
   "outputs": [
    {
     "name": "stdout",
     "output_type": "stream",
     "text": [
      "[*********************100%%**********************]  2 of 2 completed\n"
     ]
    }
   ],
   "source": [
    "y_x_df = yf.download(['AAPL','^GSPC'], start='2020-01-01', end='2020-12-31')\n",
    "y_x_df = y_x_df['Adj Close'].pct_change()\n",
    "y_x_df.dropna(inplace = True)\n",
    "\n",
    "y_x_df.rename(columns={\"^GSPC\": \"SP500\"},inplace = True)\n",
    "x_df = y_x_df[['SP500']]\n",
    "y_df = y_x_df[['AAPL']]"
   ]
  },
  {
   "cell_type": "code",
   "execution_count": 4,
   "id": "adde94cc-71ee-4f72-867f-e9a1ce0d3936",
   "metadata": {
    "collapsed": true,
    "jupyter": {
     "outputs_hidden": true
    },
    "tags": []
   },
   "outputs": [
    {
     "name": "stdout",
     "output_type": "stream",
     "text": [
      "                            OLS Regression Results                            \n",
      "==============================================================================\n",
      "Dep. Variable:                   AAPL   R-squared:                       0.689\n",
      "Model:                            OLS   Adj. R-squared:                  0.687\n",
      "Method:                 Least Squares   F-statistic:                     550.5\n",
      "Date:                Thu, 28 Dec 2023   Prob (F-statistic):           5.16e-65\n",
      "Time:                        23:39:17   Log-Likelihood:                 675.37\n",
      "No. Observations:                 251   AIC:                            -1347.\n",
      "Df Residuals:                     249   BIC:                            -1340.\n",
      "Df Model:                           1                                         \n",
      "Covariance Type:            nonrobust                                         \n",
      "==============================================================================\n",
      "                 coef    std err          t      P>|t|      [0.025      0.975]\n",
      "------------------------------------------------------------------------------\n",
      "const          0.0019      0.001      1.819      0.070      -0.000       0.004\n",
      "SP500          1.1234      0.048     23.462      0.000       1.029       1.218\n",
      "==============================================================================\n",
      "Omnibus:                       52.109   Durbin-Watson:                   1.871\n",
      "Prob(Omnibus):                  0.000   Jarque-Bera (JB):              210.797\n",
      "Skew:                           0.772   Prob(JB):                     1.68e-46\n",
      "Kurtosis:                       7.216   Cond. No.                         46.0\n",
      "==============================================================================\n",
      "\n",
      "Notes:\n",
      "[1] Standard Errors assume that the covariance matrix of the errors is correctly specified.\n"
     ]
    }
   ],
   "source": [
    "X_df = sm.add_constant(x_df)\n",
    "\n",
    "model = sm.OLS(y_df, X_df)\n",
    "results = model.fit()\n",
    "print(results.summary())"
   ]
  },
  {
   "cell_type": "code",
   "execution_count": 5,
   "id": "49bcbd4b-134a-4d26-9ec5-f902dcdce7cc",
   "metadata": {
    "tags": []
   },
   "outputs": [
    {
     "name": "stdout",
     "output_type": "stream",
     "text": [
      "             df    sum_sq   mean_sq           F        PR(>F)\n",
      "x           1.0  0.149487  0.149487  550.450901  5.162996e-65\n",
      "Residual  249.0  0.067621  0.000272         NaN           NaN\n"
     ]
    }
   ],
   "source": [
    "from statsmodels.formula.api import ols\n",
    "from statsmodels.stats.anova import anova_lm\n",
    "\n",
    "data = pd.DataFrame({'x': x_df['SP500'], 'y': y_df['AAPL']})\n",
    "model_V2 = ols(\"y ~ x\", data).fit()\n",
    "anova_results = anova_lm(model_V2, typ=1)\n",
    "\n",
    "print(anova_results)"
   ]
  },
  {
   "cell_type": "code",
   "execution_count": 6,
   "id": "572cabd7-75e0-4355-b0a6-89ea00fac4db",
   "metadata": {
    "tags": []
   },
   "outputs": [],
   "source": [
    "y_mean = y_df.mean()"
   ]
  },
  {
   "cell_type": "code",
   "execution_count": 7,
   "id": "ca2f6896-1820-4d3a-aaf8-f93abd64d627",
   "metadata": {
    "tags": []
   },
   "outputs": [],
   "source": [
    "# Sum of Squares for Total, SST\n",
    "SST = ((y_df - y_mean)**2).sum()\n",
    "n = len(y_df)"
   ]
  },
  {
   "cell_type": "code",
   "execution_count": 8,
   "id": "915b24f2-9160-4e59-97f4-a965d8bede7c",
   "metadata": {
    "tags": []
   },
   "outputs": [],
   "source": [
    "# degree of freedom total, DFT\n",
    "DFT = n - 1\n",
    "# mean square total, MST\n",
    "MST = SST/DFT"
   ]
  },
  {
   "cell_type": "code",
   "execution_count": 9,
   "id": "46813695-f94e-4ce7-a1dd-54e0428e5e1e",
   "metadata": {
    "tags": []
   },
   "outputs": [],
   "source": [
    "# predicted\n",
    "y_hat = results.fittedvalues\n",
    "\n",
    "y_hat = y_hat.to_frame()\n",
    "y_hat = y_hat.rename(columns={0: 'AAPL'})"
   ]
  },
  {
   "cell_type": "code",
   "execution_count": 10,
   "id": "8ef72f4f-8866-42d7-9859-e52906a169b9",
   "metadata": {
    "tags": []
   },
   "outputs": [],
   "source": [
    "# Sum of Squares for Regression, SSR\n",
    "SSR = ((y_hat - y_mean)**2).sum()\n",
    "# degrees of freedom for regression model\n",
    "DFR = 1\n",
    "# MSR: mean square regression\n",
    "MSR = SSR/DFR"
   ]
  },
  {
   "cell_type": "code",
   "execution_count": 11,
   "id": "e20d5e6c-6d36-4d2f-8ef9-1d063d21ba64",
   "metadata": {
    "tags": []
   },
   "outputs": [],
   "source": [
    "# Sum of Squares for Error, SSE\n",
    "SSE = ((y_df - y_hat)**2).sum()"
   ]
  },
  {
   "cell_type": "code",
   "execution_count": 12,
   "id": "344a76aa-5b19-4e63-b872-c1b015b0cae9",
   "metadata": {
    "tags": []
   },
   "outputs": [],
   "source": [
    "# degrees of freedom for error, DFE\n",
    "DFE = n - DFR - 1"
   ]
  },
  {
   "cell_type": "code",
   "execution_count": 13,
   "id": "bfab3731-9cc6-40cd-807c-81eb2e2f0802",
   "metadata": {
    "tags": []
   },
   "outputs": [],
   "source": [
    "# mean squared error, MSE\n",
    "MSE = SSE/DFE"
   ]
  },
  {
   "cell_type": "code",
   "execution_count": 14,
   "id": "12527c90-f2df-4f16-b53f-a01ecdc7b9a5",
   "metadata": {
    "tags": []
   },
   "outputs": [],
   "source": [
    "# coefficient of determination, R squared\n",
    "\n",
    "R2 = SSR/SST\n",
    "\n",
    "R2_adj = 1 - MSE/MST"
   ]
  },
  {
   "cell_type": "code",
   "execution_count": 15,
   "id": "1cd1e18c-0dbe-45ab-879d-f1ff58f4ee44",
   "metadata": {
    "tags": []
   },
   "outputs": [],
   "source": [
    "F_test = MSR/MSE\n",
    "\n",
    "N = results.nobs\n",
    "k = results.df_model+1\n",
    "dfm, dfe = k-1, N - k\n",
    "F = results.mse_model / results.mse_resid"
   ]
  },
  {
   "cell_type": "code",
   "execution_count": 16,
   "id": "a868bc1c-915d-42bd-a1a9-d284d7b89b90",
   "metadata": {
    "tags": []
   },
   "outputs": [],
   "source": [
    "import scipy.stats as stats\n",
    "p = 1.0 - stats.f.cdf(F,dfm,dfe)\n",
    "\n",
    "alpha = 0.01\n",
    "# F = 549.7\n",
    "# n = 252\n",
    "# D = 1\n",
    "# p = D + 1\n",
    "\n",
    "fdistribution = stats.f(p - 1, n - p) \n",
    "# build an F-distribution object\n",
    "f_critical = fdistribution.ppf(1 - alpha)\n",
    "\n",
    "p_value = 1 - stats.f.cdf(F, p - 1, n - p)"
   ]
  },
  {
   "cell_type": "code",
   "execution_count": 17,
   "id": "2fed0c82-35e5-445b-bf21-d01887f24c25",
   "metadata": {
    "tags": []
   },
   "outputs": [],
   "source": [
    "x_points = x_df.values.T\n",
    "y_points = y_df.values.T\n",
    "y_hat_points = y_hat.values.T\n",
    "\n",
    "p = model.fit().params\n",
    "\n",
    "# generate x-values for  regression line\n",
    "x = np.linspace(x_df.min(),x_df.max(),10)"
   ]
  },
  {
   "cell_type": "code",
   "execution_count": 18,
   "id": "0e42ca61-057e-4978-bb02-09f787d281a1",
   "metadata": {
    "tags": []
   },
   "outputs": [
    {
     "data": {
      "text/plain": [
       "(-0.15, 0.15)"
      ]
     },
     "execution_count": 18,
     "metadata": {},
     "output_type": "execute_result"
    },
    {
     "data": {
      "image/png": "[encoded data removed]",
      "text/plain": [
       "<Figure size 640x480 with 1 Axes>"
      ]
     },
     "metadata": {},
     "output_type": "display_data"
    }
   ],
   "source": [
    "fig, ax = plt.subplots()\n",
    "plt.scatter(x_df, y_df, alpha = 0.5)\n",
    "plt.plot(x_points,y_hat_points,'+k'); \n",
    "\n",
    "plt.plot(x, p.const + p.SP500 * x,color = 'r')\n",
    "plt.plot(np.vstack((x_points,x_points)),\n",
    "     np.vstack((y_points,y_hat_points)),\n",
    "     color = [0.7,0.7,0.7], zorder = 1);\n",
    "\n",
    "plt.axis('scaled')\n",
    "plt.ylabel('y')\n",
    "plt.xlabel('x')\n",
    "plt.xlim([-0.15,0.15])\n",
    "plt.ylim([-0.15,0.15])"
   ]
  }
 ],
 "metadata": {
  "kernelspec": {
   "display_name": "Python 3 (ipykernel)",
   "language": "python",
   "name": "python3"
  },
  "language_info": {
   "codemirror_mode": {
    "name": "ipython",
    "version": 3
   },
   "file_extension": ".py",
   "mimetype": "text/x-python",
   "name": "python",
   "nbconvert_exporter": "python",
   "pygments_lexer": "ipython3",
   "version": "3.11.5"
  }
 },
 "nbformat": 4,
 "nbformat_minor": 5
}
