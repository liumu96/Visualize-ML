{
 "cells": [
  {
   "cell_type": "markdown",
   "id": "f56d507e-2383-4149-86f3-1ba3b81cf413",
   "metadata": {},
   "source": [
    "Q1. 给定一个整数列表 [3, 5, 2, 7, 1]，找到其中的最大值和最小值，并打印两者之和。"
   ]
  },
  {
   "cell_type": "code",
   "execution_count": null,
   "id": "3c164c8e-bade-4018-b4ae-accdbaa94363",
   "metadata": {
    "tags": []
   },
   "outputs": [],
   "source": [
    "num_list = [3, 5, 2, 7, 1]\n",
    "\n",
    "min_num = num_list[0]\n",
    "max_num = num_list[0]\n",
    "\n",
    "for num in num_list:\n",
    "    if num > max_num:\n",
    "        max_num = num\n",
    "    if num < min_num:\n",
    "        min_num = num\n",
    "\n",
    "print(min_num + max_num)"
   ]
  },
  {
   "cell_type": "markdown",
   "id": "abd3ca08-faeb-46a1-b731-a5a7e9827577",
   "metadata": {},
   "source": [
    "Q2. 使用 while 循环输出 1 到 10 的所有奇数。"
   ]
  },
  {
   "cell_type": "code",
   "execution_count": null,
   "id": "a5b1dd0d-302c-4253-84eb-ce86a25cb160",
   "metadata": {
    "tags": []
   },
   "outputs": [],
   "source": [
    "num = 1\n",
    "while num <= 10:\n",
    "    if num % 2 !=0:\n",
    "        print(num)\n",
    "    num += 1"
   ]
  },
  {
   "cell_type": "markdown",
   "id": "fa9c1320-3f76-4d42-a975-a74855790449",
   "metadata": {},
   "source": [
    "Q3. 输入一个数字并将其转换为整数，如果输入的不是数字，则提示用户重新输入直到输入数字为 止。"
   ]
  },
  {
   "cell_type": "code",
   "execution_count": null,
   "id": "718b4c9a-eabe-4dc1-aa95-2a6e4cc30ed2",
   "metadata": {
    "tags": []
   },
   "outputs": [],
   "source": [
    "while True:\n",
    "    try:\n",
    "        num = int(input(\"请输入一个数字：\"))\n",
    "        break\n",
    "    except ValueError:\n",
    "        print(\"输入有误，请重新输入\")\n",
    "print(f\"输入的整数是：{num}\")"
   ]
  },
  {
   "cell_type": "markdown",
   "id": "52ef1411-87ec-40f9-81d6-69b1fead0847",
   "metadata": {},
   "source": [
    "Q4. 求 100 以内的素数。"
   ]
  },
  {
   "cell_type": "code",
   "execution_count": null,
   "id": "0c50e7ce-7b27-4aa1-90bb-85528c123bfc",
   "metadata": {
    "tags": []
   },
   "outputs": [],
   "source": [
    "prime_list = []\n",
    "\n",
    "for num in range(2, 101):\n",
    "    for i in range(2, num):\n",
    "        if num % i == 0:\n",
    "            break;\n",
    "    else:\n",
    "        prime_list.append(num)\n",
    "\n",
    "print(prime_list)"
   ]
  },
  {
   "cell_type": "markdown",
   "id": "7ca1ff26-5c4c-4ab2-8681-abcff9b80e9c",
   "metadata": {},
   "source": [
    "Q5. 请用至少两种不同办法计算 1-100 中奇数之和。 "
   ]
  },
  {
   "cell_type": "code",
   "execution_count": null,
   "id": "d921f3a8-d7c0-42bb-a4af-5f88c9eab15c",
   "metadata": {
    "tags": []
   },
   "outputs": [],
   "source": [
    "sum_odd_numbers = 0\n",
    "\n",
    "for i in range(1, 101):\n",
    "    if i % 2 != 0:\n",
    "        sum_odd_numbers += i\n",
    "\n",
    "print(sum_odd_numbers)"
   ]
  },
  {
   "cell_type": "code",
   "execution_count": null,
   "id": "ccc5807f-01fd-4105-b3e7-083e7291123b",
   "metadata": {
    "tags": []
   },
   "outputs": [],
   "source": [
    "sum_odd_numbers = 0\n",
    "\n",
    "i = 1\n",
    "while i <= 100:\n",
    "    if i % 2 != 0:\n",
    "        sum_odd_numbers += i;\n",
    "    i += 1\n",
    "print(sum_odd_numbers)"
   ]
  },
  {
   "cell_type": "code",
   "execution_count": null,
   "id": "c1beb8a8-6a02-4f00-aa0d-0b6771ed8484",
   "metadata": {
    "tags": []
   },
   "outputs": [],
   "source": [
    "sum_odd_numbers = sum([i for i in range(1, 101) if i % 2 != 0])\n",
    "print(sum_odd_numbers)"
   ]
  },
  {
   "cell_type": "code",
   "execution_count": null,
   "id": "cf1fba29-93cf-4b11-b2dd-95e5d8c13d7a",
   "metadata": {
    "tags": []
   },
   "outputs": [],
   "source": [
    "sum_odd_numbers = sum([i for i in range(1, 101, 2)])\n",
    "print(sum_odd_numbers)"
   ]
  },
  {
   "cell_type": "code",
   "execution_count": null,
   "id": "9e9fb94f-dadc-4759-8b6c-9947bc0d7535",
   "metadata": {
    "tags": []
   },
   "outputs": [],
   "source": [
    "sum_odd_numbers = sum(list(range(1, 101, 2)))\n",
    "print(sum_odd_numbers)"
   ]
  },
  {
   "cell_type": "code",
   "execution_count": null,
   "id": "818117ed-4637-49f4-b2bf-881d98b37d45",
   "metadata": {
    "tags": []
   },
   "outputs": [],
   "source": [
    "sum_odd_numbers = 0\n",
    "\n",
    "i = 1\n",
    "while i <= 100:\n",
    "    sum_odd_numbers += i;\n",
    "    i += 2\n",
    "print(sum_odd_numbers)"
   ]
  },
  {
   "cell_type": "markdown",
   "id": "290aabbf-76ca-4a1d-b6d9-c87bc4d0f7b8",
   "metadata": {},
   "source": [
    "Q6. 写两个函数分别计算矩阵行、列方向元素之和。"
   ]
  },
  {
   "cell_type": "code",
   "execution_count": null,
   "id": "63e937a5-55b3-42ea-af57-c1c27d3132f2",
   "metadata": {
    "tags": []
   },
   "outputs": [],
   "source": [
    "def sum_rows(matrix):\n",
    "    sum = []\n",
    "    rows = len(matrix)\n",
    "    cols = len(matrix[0])\n",
    "    \n",
    "    i = 0\n",
    "    while i < rows:\n",
    "        tmp = 0\n",
    "        for j in range(cols):\n",
    "            tmp += matrix[i][j]\n",
    "        sum.append(tmp)\n",
    "        i += 1\n",
    "    return sum\n",
    "def sum_cols(matrix):\n",
    "    sum = []\n",
    "    rows = len(matrix)\n",
    "    cols = len(matrix[0])\n",
    "    \n",
    "    i = 0\n",
    "    while i < cols:\n",
    "        tmp = 0\n",
    "        for j in range(rows):\n",
    "            tmp += matrix[j][i]\n",
    "        sum.append(tmp)\n",
    "        i += 1\n",
    "    return sum"
   ]
  },
  {
   "cell_type": "code",
   "execution_count": null,
   "id": "f5a912b5-f3a7-44a5-81ad-38dbb2bbad82",
   "metadata": {
    "tags": []
   },
   "outputs": [],
   "source": [
    "A = [[1, 2, 3],\n",
    "     [4, 5, 6]]\n",
    "B = sum_rows(A)\n",
    "B"
   ]
  },
  {
   "cell_type": "code",
   "execution_count": null,
   "id": "c8ac07df-dc7c-4366-b342-a9339984d00c",
   "metadata": {},
   "outputs": [],
   "source": [
    "C = sum_cols(A)\n",
    "C"
   ]
  },
  {
   "cell_type": "markdown",
   "id": "690476dd-9126-4713-ab4d-613cd57f32b7",
   "metadata": {
    "tags": []
   },
   "source": [
    "Q7. 写两个函数分别计算矩阵行、列方向元素平均值。"
   ]
  },
  {
   "cell_type": "code",
   "execution_count": null,
   "id": "4de3f24e-a89e-422b-a34a-bafb85506ca9",
   "metadata": {},
   "outputs": [],
   "source": [
    "def mean_rows(matrix):\n",
    "    means = []\n",
    "    rows = len(matrix)\n",
    "    cols = len(matrix[0])\n",
    "    \n",
    "    i = 0\n",
    "    while i < rows:\n",
    "        sum = 0\n",
    "        for j in range(cols):\n",
    "            sum += matrix[i][j]\n",
    "        means.append(sum / cols)\n",
    "        i += 1\n",
    "    return means\n",
    "def mean_cols(matrix):\n",
    "    means = []\n",
    "    rows = len(matrix)\n",
    "    cols = len(matrix[0])\n",
    "    \n",
    "    i = 0\n",
    "    while i < cols:\n",
    "        sum = 0\n",
    "        for j in range(rows):\n",
    "            sum += matrix[j][i]\n",
    "        means.append(sum / cols)\n",
    "        i += 1\n",
    "    return means"
   ]
  },
  {
   "cell_type": "code",
   "execution_count": null,
   "id": "0a7bd909-6bb5-41b6-ac6e-602394f7ea7b",
   "metadata": {},
   "outputs": [],
   "source": [
    "A = [[1, 2, 3],\n",
    "     [4, 5, 6]]\n",
    "B = mean_rows(A)\n",
    "B"
   ]
  },
  {
   "cell_type": "code",
   "execution_count": null,
   "id": "38bd634c-106a-4d4d-a112-ee28eb3ab222",
   "metadata": {
    "tags": []
   },
   "outputs": [],
   "source": [
    "C = mean_cols(A)\n",
    "C"
   ]
  }
 ],
 "metadata": {
  "kernelspec": {
   "display_name": "Python 3 (ipykernel)",
   "language": "python",
   "name": "python3"
  },
  "language_info": {
   "codemirror_mode": {
    "name": "ipython",
    "version": 3
   },
   "file_extension": ".py",
   "mimetype": "text/x-python",
   "name": "python",
   "nbconvert_exporter": "python",
   "pygments_lexer": "ipython3",
   "version": "3.11.5"
  }
 },
 "nbformat": 4,
 "nbformat_minor": 5
}
