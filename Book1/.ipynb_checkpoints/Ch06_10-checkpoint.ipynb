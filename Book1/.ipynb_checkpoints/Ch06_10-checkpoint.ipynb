{
 "cells": [
  {
   "cell_type": "code",
   "execution_count": 1,
   "id": "26e80ea1-b856-4915-8903-069ed4853075",
   "metadata": {
    "tags": []
   },
   "outputs": [],
   "source": [
    "import random\n",
    "import statistics\n",
    "import matplotlib.pyplot as plt"
   ]
  },
  {
   "cell_type": "code",
   "execution_count": 3,
   "id": "d42311d7-b989-4f68-9692-baf1b82d4283",
   "metadata": {
    "tags": []
   },
   "outputs": [],
   "source": [
    "num_flips = 100\n",
    "\n",
    "results = [random.choices([0, 1], [0.4, 0.6])[0] for _ in range(num_flips)]\n",
    "\n",
    "running_means = [statistics.mean(results[0:idx+1]) for idx in range(num_flips)]"
   ]
  },
  {
   "cell_type": "code",
   "execution_count": null,
   "id": "7a37ad84-137c-43e2-af8e-c912088df6be",
   "metadata": {},
   "outputs": [],
   "source": [
    "visual_num = 100\n",
    "plt.scatter(range(1, visual_num + 1), results[0:visual_num],\n",
    "           c=results[0:visual_num],marker=\"o\", cmap = 'cool')\n",
    "plt.plot(range(1, visual_num + 1), results[0:visual_num])\n",
    "plt.xlabel(\"Number of coin flips\")\n",
    "plt.ylabel(\"Result\")\n",
    "plt.grid(True)\n",
    "plt.show()"
   ]
  },
  {
   "cell_type": "code",
   "execution_count": null,
   "id": "9a7c3b51-78d6-44be-aae5-d4d0a36ec864",
   "metadata": {},
   "outputs": [],
   "source": []
  },
  {
   "cell_type": "code",
   "execution_count": null,
   "id": "bc8ed01b-4c0d-4086-bdb0-673460b1f527",
   "metadata": {},
   "outputs": [],
   "source": []
  }
 ],
 "metadata": {
  "kernelspec": {
   "display_name": "Python 3 (ipykernel)",
   "language": "python",
   "name": "python3"
  },
  "language_info": {
   "codemirror_mode": {
    "name": "ipython",
    "version": 3
   },
   "file_extension": ".py",
   "mimetype": "text/x-python",
   "name": "python",
   "nbconvert_exporter": "python",
   "pygments_lexer": "ipython3",
   "version": "3.11.5"
  }
 },
 "nbformat": 4,
 "nbformat_minor": 5
}
