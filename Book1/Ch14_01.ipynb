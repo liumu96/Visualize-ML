{
 "cells": [
  {
   "cell_type": "code",
   "execution_count": 1,
   "id": "e796a8e0-4250-4d25-9364-1f5f87377918",
   "metadata": {
    "tags": []
   },
   "outputs": [],
   "source": [
    "import numpy as np\n",
    "import seaborn as sns\n",
    "import matplotlib.pyplot as plt\n",
    "import math\n",
    "from matplotlib import cm\n",
    "\n",
    "import os\n",
    "\n",
    "if not os.path.isdir('Figures'):\n",
    "    os.makedirs('Figures')"
   ]
  },
  {
   "cell_type": "code",
   "execution_count": 2,
   "id": "2871fb02-9a18-4cb5-92a2-bb2129372242",
   "metadata": {
    "tags": []
   },
   "outputs": [],
   "source": [
    "def visualize_2D(array, title, vmax, vmin):\n",
    "    fig_width = math.ceil(array.shape[1] * 0.5)\n",
    "    fig_length = math.ceil(array.shape[0] * 0.5)\n",
    "    \n",
    "    fig, ax = plt.subplots(figsize=(fig_width, fig_length))\n",
    "    \n",
    "    sns.heatmap(array,\n",
    "               vmax = vmax,\n",
    "               vmin = vmin,\n",
    "               annot = True,\n",
    "               fmt = \".0f\",\n",
    "               square = True,\n",
    "               cmap = 'RdYlBu_r',\n",
    "               linewidths = .5,\n",
    "               cbar = False,\n",
    "               yticklabels = False,\n",
    "               xticklabels = False,\n",
    "               ax = ax)\n",
    "    fig.savefig('Figures/' + title + '.svg', format='svg')\n",
    "    \n",
    "def visualize_1D(array, title):\n",
    "    fig, ax = plt.subplots()\n",
    "    \n",
    "    colors = cm.RdYlBu_r(np.linspace(0, 1, len(array)))\n",
    "    \n",
    "    for idx in range(len(array)):\n",
    "        \n",
    "        circle_idx = plt.Circle((idx, 0), 0.5, facecolor=colors[idx], edgecolor='w')\n",
    "        ax.add_patch(circle_idx)\n",
    "        ax.text(idx, 0, s = str(array[idx]),\n",
    "                horizontalalignment='center',\n",
    "                verticalalignment='center')\n",
    "    ax.set_xlim(-0.6, 0.6 + len(array))\n",
    "    ax.set_ylim(-0.6, 0.6)\n",
    "    ax.set_aspect('equal', adjustable='box')\n",
    "    ax.axis('off')\n",
    "    fig.savefig('Figures/' + title + '.svg', format='svg')\n",
    "                         "
   ]
  },
  {
   "cell_type": "code",
   "execution_count": 4,
   "id": "00f694d5-7077-47d1-b287-f0a92e9850a0",
   "metadata": {
    "tags": []
   },
   "outputs": [
    {
     "data": {
      "text/plain": [
       "(11,)"
      ]
     },
     "execution_count": 4,
     "metadata": {},
     "output_type": "execute_result"
    }
   ],
   "source": [
    "a_1D_array = np.arange(-5, 5 + 1)\n",
    "a_1D_array.shape"
   ]
  },
  {
   "cell_type": "code",
   "execution_count": 5,
   "id": "f9eaa252-096e-41f7-8487-b9d14e5b1efd",
   "metadata": {
    "tags": []
   },
   "outputs": [
    {
     "data": {
      "text/plain": [
       "1"
      ]
     },
     "execution_count": 5,
     "metadata": {},
     "output_type": "execute_result"
    }
   ],
   "source": [
    "a_1D_array.ndim"
   ]
  },
  {
   "cell_type": "code",
   "execution_count": 6,
   "id": "3a31b3b7-8885-494a-a478-f9cfd8aa35f5",
   "metadata": {
    "tags": []
   },
   "outputs": [
    {
     "data": {
      "text/plain": [
       "11"
      ]
     },
     "execution_count": 6,
     "metadata": {},
     "output_type": "execute_result"
    }
   ],
   "source": [
    "len(a_1D_array)"
   ]
  },
  {
   "cell_type": "code",
   "execution_count": 7,
   "id": "d8342366-0348-47af-aa30-e9a850f8d1e6",
   "metadata": {
    "tags": []
   },
   "outputs": [
    {
     "data": {
      "image/png": "[encoded data removed]",
      "text/plain": [
       "<Figure size 640x480 with 1 Axes>"
      ]
     },
     "metadata": {},
     "output_type": "display_data"
    }
   ],
   "source": [
    "visualize_1D(a_1D_array, '一维数组')"
   ]
  },
  {
   "cell_type": "code",
   "execution_count": 8,
   "id": "fda3a0b9-316a-445f-998e-af46b10547ba",
   "metadata": {
    "tags": []
   },
   "outputs": [
    {
     "data": {
      "text/plain": [
       "-5"
      ]
     },
     "execution_count": 8,
     "metadata": {},
     "output_type": "execute_result"
    }
   ],
   "source": [
    "a_1D_array[0]"
   ]
  },
  {
   "cell_type": "code",
   "execution_count": 9,
   "id": "93a1ba69-ed8b-4c6d-8c65-a7186970b9ef",
   "metadata": {
    "tags": []
   },
   "outputs": [
    {
     "data": {
      "text/plain": [
       "-5"
      ]
     },
     "execution_count": 9,
     "metadata": {},
     "output_type": "execute_result"
    }
   ],
   "source": [
    "a_1D_array[-11]"
   ]
  },
  {
   "cell_type": "code",
   "execution_count": 10,
   "id": "4d0042e4-20b8-4a92-a691-a375c0fe1653",
   "metadata": {
    "tags": []
   },
   "outputs": [
    {
     "data": {
      "text/plain": [
       "5"
      ]
     },
     "execution_count": 10,
     "metadata": {},
     "output_type": "execute_result"
    }
   ],
   "source": [
    "a_1D_array[-1]"
   ]
  },
  {
   "cell_type": "code",
   "execution_count": 11,
   "id": "48a2cd71-6e39-414e-8217-ad929e29fcbd",
   "metadata": {
    "tags": []
   },
   "outputs": [
    {
     "data": {
      "text/plain": [
       "5"
      ]
     },
     "execution_count": 11,
     "metadata": {},
     "output_type": "execute_result"
    }
   ],
   "source": [
    "a_1D_array[len(a_1D_array)-1]"
   ]
  },
  {
   "cell_type": "code",
   "execution_count": 12,
   "id": "2ef7100b-13a2-41eb-b0d4-159361d82160",
   "metadata": {
    "tags": []
   },
   "outputs": [
    {
     "data": {
      "text/plain": [
       "4"
      ]
     },
     "execution_count": 12,
     "metadata": {},
     "output_type": "execute_result"
    }
   ],
   "source": [
    "a_1D_array[-2]"
   ]
  },
  {
   "cell_type": "code",
   "execution_count": 13,
   "id": "0394d668-ec93-48a0-bdc8-2ed9aa31eea5",
   "metadata": {
    "tags": []
   },
   "outputs": [
    {
     "data": {
      "text/plain": [
       "array([[-5],\n",
       "       [-4],\n",
       "       [-3],\n",
       "       [-2],\n",
       "       [-1],\n",
       "       [ 0],\n",
       "       [ 1],\n",
       "       [ 2],\n",
       "       [ 3],\n",
       "       [ 4],\n",
       "       [ 5]])"
      ]
     },
     "execution_count": 13,
     "metadata": {},
     "output_type": "execute_result"
    }
   ],
   "source": [
    "a_1D_array[:, np.newaxis]"
   ]
  },
  {
   "cell_type": "code",
   "execution_count": 15,
   "id": "623135dc-ff8a-403f-b511-08f2e047a833",
   "metadata": {
    "tags": []
   },
   "outputs": [
    {
     "data": {
      "image/png": "[encoded data removed]",
      "text/plain": [
       "<Figure size 100x600 with 1 Axes>"
      ]
     },
     "metadata": {},
     "output_type": "display_data"
    }
   ],
   "source": [
    "visualize_2D(a_1D_array[:, np.newaxis], '列向量', 5, -5)"
   ]
  },
  {
   "cell_type": "code",
   "execution_count": 16,
   "id": "2295ce1d-f894-4ac3-b794-a35b0f9c19a2",
   "metadata": {
    "tags": []
   },
   "outputs": [
    {
     "data": {
      "text/plain": [
       "2"
      ]
     },
     "execution_count": 16,
     "metadata": {},
     "output_type": "execute_result"
    }
   ],
   "source": [
    "a_1D_array[:, np.newaxis].ndim"
   ]
  },
  {
   "cell_type": "code",
   "execution_count": 17,
   "id": "e46ffc6e-4d26-4351-8e61-b1fb101d82b7",
   "metadata": {
    "tags": []
   },
   "outputs": [
    {
     "data": {
      "text/plain": [
       "array([[-5],\n",
       "       [-4],\n",
       "       [-3],\n",
       "       [-2],\n",
       "       [-1],\n",
       "       [ 0],\n",
       "       [ 1],\n",
       "       [ 2],\n",
       "       [ 3],\n",
       "       [ 4],\n",
       "       [ 5]])"
      ]
     },
     "execution_count": 17,
     "metadata": {},
     "output_type": "execute_result"
    }
   ],
   "source": [
    "a_1D_array[:, None]"
   ]
  },
  {
   "cell_type": "code",
   "execution_count": 18,
   "id": "7e9381ee-8f9d-4fd9-b331-3e4e45a7949a",
   "metadata": {
    "tags": []
   },
   "outputs": [
    {
     "data": {
      "text/plain": [
       "array([[-5],\n",
       "       [-4],\n",
       "       [-3],\n",
       "       [-2],\n",
       "       [-1],\n",
       "       [ 0],\n",
       "       [ 1],\n",
       "       [ 2],\n",
       "       [ 3],\n",
       "       [ 4],\n",
       "       [ 5]])"
      ]
     },
     "execution_count": 18,
     "metadata": {},
     "output_type": "execute_result"
    }
   ],
   "source": [
    "a_1D_array.reshape(-1, 1)"
   ]
  },
  {
   "cell_type": "code",
   "execution_count": 19,
   "id": "5d0f5cf4-fd39-4eaf-81bd-6cff3bc0a760",
   "metadata": {
    "tags": []
   },
   "outputs": [
    {
     "data": {
      "text/plain": [
       "array([-5, -4, -3, -2, -1,  0,  1,  2,  3,  4,  5])"
      ]
     },
     "execution_count": 19,
     "metadata": {},
     "output_type": "execute_result"
    }
   ],
   "source": [
    "a_1D_array[:, np.newaxis].squeeze()"
   ]
  },
  {
   "cell_type": "code",
   "execution_count": 21,
   "id": "d5975c46-8541-4730-9c88-1f5bdd1efa3f",
   "metadata": {
    "tags": []
   },
   "outputs": [
    {
     "data": {
      "text/plain": [
       "array([[-5, -4, -3, -2, -1,  0,  1,  2,  3,  4,  5]])"
      ]
     },
     "execution_count": 21,
     "metadata": {},
     "output_type": "execute_result"
    }
   ],
   "source": [
    "a_1D_array[np.newaxis, :]"
   ]
  },
  {
   "cell_type": "code",
   "execution_count": 22,
   "id": "527ea746-3fc8-41f0-a587-3470d07a126e",
   "metadata": {
    "tags": []
   },
   "outputs": [
    {
     "data": {
      "image/png": "[encoded data removed]",
      "text/plain": [
       "<Figure size 600x100 with 1 Axes>"
      ]
     },
     "metadata": {},
     "output_type": "display_data"
    }
   ],
   "source": [
    "visualize_2D(a_1D_array[np.newaxis, :], '行向量', 5, -5)"
   ]
  },
  {
   "cell_type": "code",
   "execution_count": 23,
   "id": "8c35e7fe-dd6f-40c6-bfb6-b4d203e20565",
   "metadata": {
    "tags": []
   },
   "outputs": [
    {
     "data": {
      "text/plain": [
       "array([[-5, -4, -3, -2, -1,  0,  1,  2,  3,  4,  5]])"
      ]
     },
     "execution_count": 23,
     "metadata": {},
     "output_type": "execute_result"
    }
   ],
   "source": [
    "a_1D_array[None, :]"
   ]
  },
  {
   "cell_type": "code",
   "execution_count": 24,
   "id": "d51d94b5-6f69-4cc1-8fab-6c94e179986b",
   "metadata": {
    "tags": []
   },
   "outputs": [
    {
     "data": {
      "text/plain": [
       "array([[-5, -4, -3, -2, -1,  0,  1,  2,  3,  4,  5]])"
      ]
     },
     "execution_count": 24,
     "metadata": {},
     "output_type": "execute_result"
    }
   ],
   "source": [
    "a_1D_array.reshape(1, -1)"
   ]
  },
  {
   "cell_type": "code",
   "execution_count": 25,
   "id": "f7cf45c6-5f9f-4653-a1a7-28b5edd3040d",
   "metadata": {
    "tags": []
   },
   "outputs": [
    {
     "data": {
      "text/plain": [
       "array([[110]])"
      ]
     },
     "execution_count": 25,
     "metadata": {},
     "output_type": "execute_result"
    }
   ],
   "source": [
    "a_1D_array[np.newaxis, :] @ a_1D_array[:, np.newaxis]"
   ]
  },
  {
   "cell_type": "code",
   "execution_count": 26,
   "id": "c8a8641f-263a-4146-8f5f-0f4eab4f228b",
   "metadata": {
    "tags": []
   },
   "outputs": [
    {
     "data": {
      "text/plain": [
       "array([[ 25,  20,  15,  10,   5,   0,  -5, -10, -15, -20, -25],\n",
       "       [ 20,  16,  12,   8,   4,   0,  -4,  -8, -12, -16, -20],\n",
       "       [ 15,  12,   9,   6,   3,   0,  -3,  -6,  -9, -12, -15],\n",
       "       [ 10,   8,   6,   4,   2,   0,  -2,  -4,  -6,  -8, -10],\n",
       "       [  5,   4,   3,   2,   1,   0,  -1,  -2,  -3,  -4,  -5],\n",
       "       [  0,   0,   0,   0,   0,   0,   0,   0,   0,   0,   0],\n",
       "       [ -5,  -4,  -3,  -2,  -1,   0,   1,   2,   3,   4,   5],\n",
       "       [-10,  -8,  -6,  -4,  -2,   0,   2,   4,   6,   8,  10],\n",
       "       [-15, -12,  -9,  -6,  -3,   0,   3,   6,   9,  12,  15],\n",
       "       [-20, -16, -12,  -8,  -4,   0,   4,   8,  12,  16,  20],\n",
       "       [-25, -20, -15, -10,  -5,   0,   5,  10,  15,  20,  25]])"
      ]
     },
     "execution_count": 26,
     "metadata": {},
     "output_type": "execute_result"
    }
   ],
   "source": [
    "a_1D_array[:, np.newaxis] @ a_1D_array[np.newaxis, :]"
   ]
  },
  {
   "cell_type": "code",
   "execution_count": 27,
   "id": "15a2d6ef-d017-4213-8284-2eb7c6ac181f",
   "metadata": {
    "tags": []
   },
   "outputs": [
    {
     "data": {
      "text/plain": [
       "array([[[-5]],\n",
       "\n",
       "       [[-4]],\n",
       "\n",
       "       [[-3]],\n",
       "\n",
       "       [[-2]],\n",
       "\n",
       "       [[-1]],\n",
       "\n",
       "       [[ 0]],\n",
       "\n",
       "       [[ 1]],\n",
       "\n",
       "       [[ 2]],\n",
       "\n",
       "       [[ 3]],\n",
       "\n",
       "       [[ 4]],\n",
       "\n",
       "       [[ 5]]])"
      ]
     },
     "execution_count": 27,
     "metadata": {},
     "output_type": "execute_result"
    }
   ],
   "source": [
    "a_1D_array[:, np.newaxis, np.newaxis]"
   ]
  },
  {
   "cell_type": "code",
   "execution_count": 28,
   "id": "59f8769e-346c-4788-93f2-b74bb0b28704",
   "metadata": {
    "tags": []
   },
   "outputs": [
    {
     "data": {
      "text/plain": [
       "array([-5, -4, -3, -2, -1,  0,  1,  2,  3,  4,  5])"
      ]
     },
     "execution_count": 28,
     "metadata": {},
     "output_type": "execute_result"
    }
   ],
   "source": [
    "a_1D_array[:, np.newaxis, np.newaxis].squeeze()"
   ]
  },
  {
   "cell_type": "code",
   "execution_count": 29,
   "id": "22b76b00-2099-4502-bee7-c24f2a8f5839",
   "metadata": {
    "tags": []
   },
   "outputs": [
    {
     "data": {
      "text/plain": [
       "array([-5, -4, -3])"
      ]
     },
     "execution_count": 29,
     "metadata": {},
     "output_type": "execute_result"
    }
   ],
   "source": [
    "a_1D_array[:3]"
   ]
  },
  {
   "cell_type": "code",
   "execution_count": 30,
   "id": "6c004662-2b3d-4af9-892f-2b798df9a460",
   "metadata": {
    "tags": []
   },
   "outputs": [
    {
     "data": {
      "text/plain": [
       "array([-5, -4, -3])"
      ]
     },
     "execution_count": 30,
     "metadata": {},
     "output_type": "execute_result"
    }
   ],
   "source": [
    "a_1D_array[0:3]"
   ]
  },
  {
   "cell_type": "code",
   "execution_count": 32,
   "id": "5db32198-312a-4bfa-ab31-18bd3bc5bbb3",
   "metadata": {
    "tags": []
   },
   "outputs": [
    {
     "data": {
      "text/plain": [
       "array([-5, -4, -3])"
      ]
     },
     "execution_count": 32,
     "metadata": {},
     "output_type": "execute_result"
    }
   ],
   "source": [
    "a_1D_array[[0, 1, 2]]"
   ]
  },
  {
   "cell_type": "code",
   "execution_count": 33,
   "id": "2a4102d8-846e-448c-9754-3ce1513edb72",
   "metadata": {
    "tags": []
   },
   "outputs": [
    {
     "data": {
      "text/plain": [
       "array([-4, -3])"
      ]
     },
     "execution_count": 33,
     "metadata": {},
     "output_type": "execute_result"
    }
   ],
   "source": [
    "a_1D_array[1:3]"
   ]
  },
  {
   "cell_type": "code",
   "execution_count": 34,
   "id": "126be3d0-4e43-4faa-bedb-522e96e9d163",
   "metadata": {
    "tags": []
   },
   "outputs": [
    {
     "data": {
      "text/plain": [
       "array([-4, -3])"
      ]
     },
     "execution_count": 34,
     "metadata": {},
     "output_type": "execute_result"
    }
   ],
   "source": [
    "a_1D_array[[1, 2]]"
   ]
  },
  {
   "cell_type": "code",
   "execution_count": 35,
   "id": "11c38e48-442a-44bb-b5f1-4fc844a8c910",
   "metadata": {
    "tags": []
   },
   "outputs": [
    {
     "data": {
      "text/plain": [
       "array([3, 4, 5])"
      ]
     },
     "execution_count": 35,
     "metadata": {},
     "output_type": "execute_result"
    }
   ],
   "source": [
    "a_1D_array[-3:]"
   ]
  },
  {
   "cell_type": "code",
   "execution_count": 36,
   "id": "476b65ca-0d67-4636-a602-76e15b3db25e",
   "metadata": {
    "tags": []
   },
   "outputs": [
    {
     "data": {
      "text/plain": [
       "array([3, 4, 5])"
      ]
     },
     "execution_count": 36,
     "metadata": {},
     "output_type": "execute_result"
    }
   ],
   "source": [
    "a_1D_array[8:]"
   ]
  },
  {
   "cell_type": "code",
   "execution_count": 37,
   "id": "93375363-acbc-46e0-861e-4019840ee34f",
   "metadata": {
    "tags": []
   },
   "outputs": [
    {
     "data": {
      "text/plain": [
       "11"
      ]
     },
     "execution_count": 37,
     "metadata": {},
     "output_type": "execute_result"
    }
   ],
   "source": [
    "len(a_1D_array)"
   ]
  },
  {
   "cell_type": "code",
   "execution_count": 38,
   "id": "955ea94f-276a-4671-ad95-5fbc0d8858c6",
   "metadata": {
    "tags": []
   },
   "outputs": [
    {
     "data": {
      "text/plain": [
       "array([3, 4, 5])"
      ]
     },
     "execution_count": 38,
     "metadata": {},
     "output_type": "execute_result"
    }
   ],
   "source": [
    "a_1D_array[len(a_1D_array)-3:]"
   ]
  },
  {
   "cell_type": "code",
   "execution_count": 39,
   "id": "bb83133d-3b24-4d30-830b-88a429e0fc98",
   "metadata": {
    "tags": []
   },
   "outputs": [
    {
     "data": {
      "text/plain": [
       "array([3, 4, 5])"
      ]
     },
     "execution_count": 39,
     "metadata": {},
     "output_type": "execute_result"
    }
   ],
   "source": [
    "a_1D_array[[-3, -2, -1]]"
   ]
  },
  {
   "cell_type": "code",
   "execution_count": 40,
   "id": "87837768-6910-4974-8738-6d42d75c8251",
   "metadata": {
    "tags": []
   },
   "outputs": [
    {
     "data": {
      "text/plain": [
       "array([-5, -3, -1,  1,  3,  5])"
      ]
     },
     "execution_count": 40,
     "metadata": {},
     "output_type": "execute_result"
    }
   ],
   "source": [
    "a_1D_array[::2]"
   ]
  },
  {
   "cell_type": "code",
   "execution_count": 41,
   "id": "621d3ecd-7c91-4b84-b23c-9e6089eec88d",
   "metadata": {
    "tags": []
   },
   "outputs": [
    {
     "data": {
      "text/plain": [
       "array([-5, -3, -1,  1,  3])"
      ]
     },
     "execution_count": 41,
     "metadata": {},
     "output_type": "execute_result"
    }
   ],
   "source": [
    "a_1D_array[0:-1:2]"
   ]
  },
  {
   "cell_type": "code",
   "execution_count": 42,
   "id": "9b319ffd-6baa-427b-9450-0582d5890313",
   "metadata": {
    "tags": []
   },
   "outputs": [
    {
     "data": {
      "text/plain": [
       "array([-4, -2,  0,  2,  4])"
      ]
     },
     "execution_count": 42,
     "metadata": {},
     "output_type": "execute_result"
    }
   ],
   "source": [
    "a_1D_array[1::2]"
   ]
  },
  {
   "cell_type": "code",
   "execution_count": 43,
   "id": "937bb6e3-d819-4509-a958-d952b98375b4",
   "metadata": {
    "tags": []
   },
   "outputs": [
    {
     "data": {
      "text/plain": [
       "array([ 5,  4,  3,  2,  1,  0, -1, -2, -3, -4, -5])"
      ]
     },
     "execution_count": 43,
     "metadata": {},
     "output_type": "execute_result"
    }
   ],
   "source": [
    "a_1D_array[::-1]"
   ]
  },
  {
   "cell_type": "code",
   "execution_count": 44,
   "id": "c5d73fed-1102-40f9-9bb0-e6f18d8bc888",
   "metadata": {
    "tags": []
   },
   "outputs": [
    {
     "data": {
      "text/plain": [
       "array([ 5,  3,  1, -1, -3, -5])"
      ]
     },
     "execution_count": 44,
     "metadata": {},
     "output_type": "execute_result"
    }
   ],
   "source": [
    "a_1D_array[::-2]"
   ]
  },
  {
   "cell_type": "code",
   "execution_count": 45,
   "id": "ebd0f963-aff4-45ff-82e8-9468a474b9bf",
   "metadata": {
    "tags": []
   },
   "outputs": [
    {
     "data": {
      "text/plain": [
       "array([ 5,  4,  3,  2,  1,  0, -1, -2])"
      ]
     },
     "execution_count": 45,
     "metadata": {},
     "output_type": "execute_result"
    }
   ],
   "source": [
    "a_1D_array[-1:2:-1]"
   ]
  },
  {
   "cell_type": "code",
   "execution_count": 46,
   "id": "e93cb74a-e0e3-4fac-ad84-3c47e938d237",
   "metadata": {
    "tags": []
   },
   "outputs": [
    {
     "data": {
      "text/plain": [
       "array([ 5,  3,  1, -1])"
      ]
     },
     "execution_count": 46,
     "metadata": {},
     "output_type": "execute_result"
    }
   ],
   "source": [
    "a_1D_array[-1:2:-2]"
   ]
  },
  {
   "cell_type": "code",
   "execution_count": 47,
   "id": "5868591f-9d61-49a7-8b7d-dbf44f63cc4a",
   "metadata": {
    "tags": []
   },
   "outputs": [
    {
     "data": {
      "text/plain": [
       "array([-5, -3, -1,  1])"
      ]
     },
     "execution_count": 47,
     "metadata": {},
     "output_type": "execute_result"
    }
   ],
   "source": [
    "a_1D_array[:-3:2]"
   ]
  },
  {
   "cell_type": "code",
   "execution_count": 48,
   "id": "0a8991d1-671e-4f4d-b460-58cb48014a88",
   "metadata": {
    "tags": []
   },
   "outputs": [
    {
     "data": {
      "text/plain": [
       "array([-4, -2,  0,  2,  4])"
      ]
     },
     "execution_count": 48,
     "metadata": {},
     "output_type": "execute_result"
    }
   ],
   "source": [
    "a_1D_array[1:-1:2]"
   ]
  },
  {
   "cell_type": "code",
   "execution_count": 49,
   "id": "d0435c5d-0843-408e-91dc-7681fb03e7e2",
   "metadata": {
    "tags": []
   },
   "outputs": [
    {
     "data": {
      "text/plain": [
       "array([-5, -2,  1,  4])"
      ]
     },
     "execution_count": 49,
     "metadata": {},
     "output_type": "execute_result"
    }
   ],
   "source": [
    "a_1D_array[::3]"
   ]
  },
  {
   "cell_type": "code",
   "execution_count": 50,
   "id": "24c7a58c-b712-4315-9cae-f966ab558025",
   "metadata": {
    "tags": []
   },
   "outputs": [
    {
     "data": {
      "text/plain": [
       "array([-4, -1,  2,  5])"
      ]
     },
     "execution_count": 50,
     "metadata": {},
     "output_type": "execute_result"
    }
   ],
   "source": [
    "a_1D_array[1::3]"
   ]
  },
  {
   "cell_type": "code",
   "execution_count": 51,
   "id": "beb562ed-3ccb-4b5c-98e9-1764a9d44a77",
   "metadata": {
    "tags": []
   },
   "outputs": [
    {
     "data": {
      "text/plain": [
       "array([-5, -4, -3,  5])"
      ]
     },
     "execution_count": 51,
     "metadata": {},
     "output_type": "execute_result"
    }
   ],
   "source": [
    "a_1D_array[[0, 1, 2, -1]]"
   ]
  },
  {
   "cell_type": "code",
   "execution_count": 52,
   "id": "7cff9aee-8b3a-4bc2-ad8e-92faae0f4fd7",
   "metadata": {
    "tags": []
   },
   "outputs": [
    {
     "data": {
      "text/plain": [
       "array([-5, -4, -3,  5])"
      ]
     },
     "execution_count": 52,
     "metadata": {},
     "output_type": "execute_result"
    }
   ],
   "source": [
    "a_1D_array[np.r_[0:3, -1]]"
   ]
  },
  {
   "cell_type": "code",
   "execution_count": 55,
   "id": "4c832131-394a-4f6b-9db1-4d6510910404",
   "metadata": {
    "tags": []
   },
   "outputs": [
    {
     "data": {
      "text/plain": [
       "array([-5, -4, -3,  5])"
      ]
     },
     "execution_count": 55,
     "metadata": {},
     "output_type": "execute_result"
    }
   ],
   "source": [
    "first_three = a_1D_array[:3]\n",
    "last_one = a_1D_array[-1:]\n",
    "np.concatenate((first_three[:3], last_one[-1:]))"
   ]
  },
  {
   "cell_type": "code",
   "execution_count": 56,
   "id": "66783e39-3a29-4756-b751-f36ed5309195",
   "metadata": {
    "tags": []
   },
   "outputs": [
    {
     "data": {
      "text/plain": [
       "array([False, False, False, False, False, False, False,  True,  True,\n",
       "        True,  True])"
      ]
     },
     "execution_count": 56,
     "metadata": {},
     "output_type": "execute_result"
    }
   ],
   "source": [
    "bool_greater_than_1 = a_1D_array > 1\n",
    "bool_greater_than_1"
   ]
  },
  {
   "cell_type": "code",
   "execution_count": 57,
   "id": "607731d4-4164-4b15-9cf2-9a9fd9a6aa4e",
   "metadata": {
    "tags": []
   },
   "outputs": [
    {
     "data": {
      "text/plain": [
       "array([2, 3, 4, 5])"
      ]
     },
     "execution_count": 57,
     "metadata": {},
     "output_type": "execute_result"
    }
   ],
   "source": [
    "a_1D_array[bool_greater_than_1]"
   ]
  },
  {
   "cell_type": "code",
   "execution_count": 58,
   "id": "eb917dea-9d2d-4eb5-afb3-9544b9a1a835",
   "metadata": {
    "tags": []
   },
   "outputs": [
    {
     "data": {
      "text/plain": [
       "array([2, 3, 4, 5])"
      ]
     },
     "execution_count": 58,
     "metadata": {},
     "output_type": "execute_result"
    }
   ],
   "source": [
    "a_1D_array[a_1D_array > 1]"
   ]
  },
  {
   "cell_type": "code",
   "execution_count": 60,
   "id": "78cb7af4-8708-413a-be68-17d86cb1ac86",
   "metadata": {
    "tags": []
   },
   "outputs": [
    {
     "data": {
      "text/plain": [
       "array([False, False, False, False, False,  True,  True,  True,  True,\n",
       "        True,  True])"
      ]
     },
     "execution_count": 60,
     "metadata": {},
     "output_type": "execute_result"
    }
   ],
   "source": [
    "bool_greater_than_eq_0 = a_1D_array >= 0\n",
    "bool_greater_than_eq_0"
   ]
  },
  {
   "cell_type": "code",
   "execution_count": 61,
   "id": "dc628592-e247-40bd-973f-b7684a900d66",
   "metadata": {
    "tags": []
   },
   "outputs": [
    {
     "data": {
      "text/plain": [
       "array([0, 1, 2, 3, 4, 5])"
      ]
     },
     "execution_count": 61,
     "metadata": {},
     "output_type": "execute_result"
    }
   ],
   "source": [
    "a_1D_array[bool_greater_than_eq_0]"
   ]
  },
  {
   "cell_type": "code",
   "execution_count": 62,
   "id": "744eaeb5-ba6f-4932-9c33-7b1039bad671",
   "metadata": {
    "tags": []
   },
   "outputs": [
    {
     "data": {
      "text/plain": [
       "array([-2, -1,  0,  1,  2])"
      ]
     },
     "execution_count": 62,
     "metadata": {},
     "output_type": "execute_result"
    }
   ],
   "source": [
    "a_1D_array[(a_1D_array < 3) & (a_1D_array > -3)]"
   ]
  },
  {
   "cell_type": "code",
   "execution_count": 63,
   "id": "bb614572-8ce3-4756-955c-b73fc07638a4",
   "metadata": {
    "tags": []
   },
   "outputs": [
    {
     "data": {
      "text/plain": [
       "array([100, 100, 100, 100, 100, 100,   1,   2,   3,   4,   5])"
      ]
     },
     "execution_count": 63,
     "metadata": {},
     "output_type": "execute_result"
    }
   ],
   "source": [
    "a_1D_array_copy_1 = np.copy(a_1D_array)\n",
    "\n",
    "a_1D_array_copy_1[a_1D_array_copy_1 <= 0] = 100\n",
    "a_1D_array_copy_1"
   ]
  },
  {
   "cell_type": "code",
   "execution_count": 71,
   "id": "1578e4d8-de28-4abd-ad11-517ce11fe021",
   "metadata": {
    "tags": []
   },
   "outputs": [
    {
     "name": "stdout",
     "output_type": "stream",
     "text": [
      "[   1 1000    3    4    5]\n",
      "[   1 1000    3    4    5]\n",
      "[88  4]\n"
     ]
    }
   ],
   "source": [
    "a = np.array([1, 2, 3, 4, 5])\n",
    "\n",
    "s = a[1:3]\n",
    "\n",
    "s[0] = 1000\n",
    "\n",
    "print(a)\n",
    "\n",
    "c = a[[1, 3]].copy()\n",
    "\n",
    "c[0] = 88\n",
    "\n",
    "print(a)\n",
    "print(c)"
   ]
  },
  {
   "cell_type": "code",
   "execution_count": 73,
   "id": "5a9201ab-bc13-4403-b214-db3cfda5869b",
   "metadata": {
    "tags": []
   },
   "outputs": [
    {
     "name": "stdout",
     "output_type": "stream",
     "text": [
      "[[1000    2    3]\n",
      " [   4    5    6]\n",
      " [   7    8    9]]\n"
     ]
    }
   ],
   "source": [
    "a = np.array([[1, 2, 3], [4, 5, 6], [7, 8, 9]])\n",
    "\n",
    "b = a[:, np.newaxis]\n",
    "\n",
    "b[0, 0, 0] = 1000\n",
    "\n",
    "print(a)"
   ]
  },
  {
   "cell_type": "code",
   "execution_count": 74,
   "id": "4d9c430d-8799-499f-8bb4-df916c685364",
   "metadata": {
    "tags": []
   },
   "outputs": [],
   "source": [
    "A_2D = np.array([[-7, -6, -5, -4, -3],\n",
    "                 [-2, -1, 0, 1, 2],\n",
    "                 [3, 4, 5, 6, 7]])"
   ]
  },
  {
   "cell_type": "code",
   "execution_count": 75,
   "id": "4230e6e6-3f18-4a1d-bdb1-a3f2c4597766",
   "metadata": {
    "tags": []
   },
   "outputs": [
    {
     "data": {
      "image/png": "[encoded data removed]",
      "text/plain": [
       "<Figure size 300x200 with 1 Axes>"
      ]
     },
     "metadata": {},
     "output_type": "display_data"
    }
   ],
   "source": [
    "visualize_2D(A_2D, '二维数组', 7, -7)"
   ]
  },
  {
   "cell_type": "code",
   "execution_count": 77,
   "id": "579f97bd-5477-4d1f-bab8-76cecb245446",
   "metadata": {
    "tags": []
   },
   "outputs": [
    {
     "data": {
      "text/plain": [
       "-7"
      ]
     },
     "execution_count": 77,
     "metadata": {},
     "output_type": "execute_result"
    }
   ],
   "source": [
    "A_2D[0, 0]"
   ]
  },
  {
   "cell_type": "code",
   "execution_count": 78,
   "id": "04f7f62d-4d47-4e51-a731-8b5352633183",
   "metadata": {
    "tags": []
   },
   "outputs": [
    {
     "data": {
      "text/plain": [
       "array([-7])"
      ]
     },
     "execution_count": 78,
     "metadata": {},
     "output_type": "execute_result"
    }
   ],
   "source": [
    "A_2D[[0], [0]]"
   ]
  },
  {
   "cell_type": "code",
   "execution_count": 79,
   "id": "a3bd361a-6622-452e-9158-7783dc2e4e66",
   "metadata": {
    "tags": []
   },
   "outputs": [
    {
     "data": {
      "text/plain": [
       "array([-7, -6, -5, -4, -3])"
      ]
     },
     "execution_count": 79,
     "metadata": {},
     "output_type": "execute_result"
    }
   ],
   "source": [
    "A_2D[0]"
   ]
  },
  {
   "cell_type": "code",
   "execution_count": 80,
   "id": "d0fc5dc0-57f3-4968-8ba4-a0699701ab51",
   "metadata": {
    "tags": []
   },
   "outputs": [
    {
     "data": {
      "text/plain": [
       "array([-7, -6, -5, -4, -3])"
      ]
     },
     "execution_count": 80,
     "metadata": {},
     "output_type": "execute_result"
    }
   ],
   "source": [
    "A_2D[0, :]"
   ]
  },
  {
   "cell_type": "code",
   "execution_count": 81,
   "id": "528e3914-af63-487e-8715-2b898adba5f3",
   "metadata": {
    "tags": []
   },
   "outputs": [
    {
     "data": {
      "text/plain": [
       "array([[-7, -6, -5, -4, -3]])"
      ]
     },
     "execution_count": 81,
     "metadata": {},
     "output_type": "execute_result"
    }
   ],
   "source": [
    "A_2D[[0],:]"
   ]
  },
  {
   "cell_type": "code",
   "execution_count": 82,
   "id": "f1ec5b92-c745-483e-bd4b-e0ef9b92aef4",
   "metadata": {
    "tags": []
   },
   "outputs": [
    {
     "data": {
      "text/plain": [
       "array([[-7, -6, -5, -4, -3]])"
      ]
     },
     "execution_count": 82,
     "metadata": {},
     "output_type": "execute_result"
    }
   ],
   "source": [
    "A_2D[0, np.newaxis]"
   ]
  },
  {
   "cell_type": "code",
   "execution_count": 83,
   "id": "fc228d69-e813-4536-a874-9364980f2319",
   "metadata": {
    "tags": []
   },
   "outputs": [
    {
     "data": {
      "text/plain": [
       "array([[-7, -6, -5, -4, -3],\n",
       "       [ 3,  4,  5,  6,  7]])"
      ]
     },
     "execution_count": 83,
     "metadata": {},
     "output_type": "execute_result"
    }
   ],
   "source": [
    "A_2D[[0, 2]]"
   ]
  },
  {
   "cell_type": "code",
   "execution_count": 84,
   "id": "344c3169-2f4d-4cd2-801a-04a46dc1f580",
   "metadata": {
    "tags": []
   },
   "outputs": [
    {
     "data": {
      "text/plain": [
       "array([[-7, -6, -5, -4, -3],\n",
       "       [ 3,  4,  5,  6,  7]])"
      ]
     },
     "execution_count": 84,
     "metadata": {},
     "output_type": "execute_result"
    }
   ],
   "source": [
    "A_2D[[0, 2], :]"
   ]
  },
  {
   "cell_type": "code",
   "execution_count": 85,
   "id": "28ffa0ab-7423-48bc-bf15-4d576f13584a",
   "metadata": {
    "tags": []
   },
   "outputs": [
    {
     "data": {
      "text/plain": [
       "array([-7, -2,  3])"
      ]
     },
     "execution_count": 85,
     "metadata": {},
     "output_type": "execute_result"
    }
   ],
   "source": [
    "A_2D[:, 0]"
   ]
  },
  {
   "cell_type": "code",
   "execution_count": 86,
   "id": "56799f7f-6989-4c79-87d8-acfa7b4e1885",
   "metadata": {
    "tags": []
   },
   "outputs": [
    {
     "data": {
      "text/plain": [
       "array([-7, -2,  3])"
      ]
     },
     "execution_count": 86,
     "metadata": {},
     "output_type": "execute_result"
    }
   ],
   "source": [
    "A_2D[..., 0]"
   ]
  },
  {
   "cell_type": "code",
   "execution_count": 87,
   "id": "a0bc5d20-90db-4f66-9a4a-04a6b3772f4b",
   "metadata": {
    "tags": []
   },
   "outputs": [
    {
     "data": {
      "text/plain": [
       "array([[-7],\n",
       "       [-2],\n",
       "       [ 3]])"
      ]
     },
     "execution_count": 87,
     "metadata": {},
     "output_type": "execute_result"
    }
   ],
   "source": [
    "A_2D[:,0,np.newaxis]"
   ]
  }
 ],
 "metadata": {
  "kernelspec": {
   "display_name": "Python 3 (ipykernel)",
   "language": "python",
   "name": "python3"
  },
  "language_info": {
   "codemirror_mode": {
    "name": "ipython",
    "version": 3
   },
   "file_extension": ".py",
   "mimetype": "text/x-python",
   "name": "python",
   "nbconvert_exporter": "python",
   "pygments_lexer": "ipython3",
   "version": "3.11.5"
  }
 },
 "nbformat": 4,
 "nbformat_minor": 5
}
