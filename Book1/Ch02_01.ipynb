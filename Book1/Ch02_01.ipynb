{
 "cells": [
  {
   "cell_type": "code",
   "execution_count": 5,
   "id": "a3b62524-20bd-4e03-8d33-77ef112ffde5",
   "metadata": {
    "tags": []
   },
   "outputs": [
    {
     "name": "stdout",
     "output_type": "stream",
     "text": [
      "scipy: 1.11.1\n"
     ]
    }
   ],
   "source": [
    "import scipy\n",
    "print('scipy: %s' % scipy.__version__)"
   ]
  },
  {
   "cell_type": "code",
   "execution_count": 3,
   "id": "8a57bfc0-2421-4b04-a8e8-656af90c4f6b",
   "metadata": {
    "tags": []
   },
   "outputs": [
    {
     "name": "stdout",
     "output_type": "stream",
     "text": [
      "numpy: 1.26.2\n"
     ]
    }
   ],
   "source": [
    "import numpy\n",
    "print('numpy: %s' % numpy.__version__)"
   ]
  },
  {
   "cell_type": "code",
   "execution_count": 7,
   "id": "580e8d38-3e88-40ef-9f7e-d629f8c6e249",
   "metadata": {
    "tags": []
   },
   "outputs": [
    {
     "name": "stdout",
     "output_type": "stream",
     "text": [
      "matplotlib: 3.8.2\n"
     ]
    }
   ],
   "source": [
    "import matplotlib\n",
    "print('matplotlib: %s' % matplotlib.__version__)"
   ]
  },
  {
   "cell_type": "code",
   "execution_count": 2,
   "id": "ed3abdc8-be50-4a32-8be3-da8195055420",
   "metadata": {
    "tags": []
   },
   "outputs": [
    {
     "name": "stdout",
     "output_type": "stream",
     "text": [
      "statsmodels: 0.14.0\n"
     ]
    }
   ],
   "source": [
    "import statsmodels\n",
    "print('statsmodels: %s' % statsmodels.__version__)"
   ]
  },
  {
   "cell_type": "code",
   "execution_count": 4,
   "id": "7337d653-00ea-44b6-be74-c6eeea00a881",
   "metadata": {
    "tags": []
   },
   "outputs": [
    {
     "name": "stdout",
     "output_type": "stream",
     "text": [
      "sklearn: 1.3.2\n"
     ]
    }
   ],
   "source": [
    "import sklearn\n",
    "print('sklearn: %s' % sklearn.__version__)"
   ]
  }
 ],
 "metadata": {
  "kernelspec": {
   "display_name": "Python 3 (ipykernel)",
   "language": "python",
   "name": "python3"
  },
  "language_info": {
   "codemirror_mode": {
    "name": "ipython",
    "version": 3
   },
   "file_extension": ".py",
   "mimetype": "text/x-python",
   "name": "python",
   "nbconvert_exporter": "python",
   "pygments_lexer": "ipython3",
   "version": "3.11.5"
  }
 },
 "nbformat": 4,
 "nbformat_minor": 5
}
