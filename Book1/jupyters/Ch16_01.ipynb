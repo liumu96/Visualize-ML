{
 "cells": [
  {
   "cell_type": "code",
   "execution_count": 1,
   "id": "dfe18b96-c5e7-4f43-9637-56d86e04832e",
   "metadata": {
    "tags": []
   },
   "outputs": [],
   "source": [
    "import numpy as np\n",
    "import seaborn as sns\n",
    "import matplotlib.pyplot as plt\n",
    "\n",
    "import math\n",
    "from matplotlib import cm\n",
    "\n",
    "import os\n",
    "\n",
    "if not os.path.isdir('Figures'):\n",
    "    os.makedirs('Figures')"
   ]
  },
  {
   "cell_type": "code",
   "execution_count": 15,
   "id": "cc70937a-aaed-4686-98bc-453400539422",
   "metadata": {
    "tags": []
   },
   "outputs": [],
   "source": [
    "def visualize_2D(array, title, vmax, vmin):\n",
    "\n",
    "    fig_width = math.ceil(array.shape[1] * 0.5)\n",
    "    fig_length = math.ceil(array.shape[0] * 0.5)\n",
    "\n",
    "    fig, ax = plt.subplots(figsize=(fig_width, fig_length))\n",
    "\n",
    "    sns.heatmap(array,\n",
    "                vmax = vmax,\n",
    "                vmin = vmin,\n",
    "                annot=True,\n",
    "                fmt='.0f',\n",
    "                square=True,\n",
    "                cmap='RdYlBu_r',\n",
    "                linewidths=.5,\n",
    "                cbar=False,\n",
    "                yticklabels=False,\n",
    "                xticklabels=False,\n",
    "                ax=ax)\n",
    "    fig.savefig('Figures/' + title + '.svg', format='svg')\n",
    "\n",
    "def visualize_1D(array, title):\n",
    "    fig, ax = plt.subplots()\n",
    "\n",
    "    colors = cm.RdYlBu_r(np.linspace(0, 1, len(array)));\n",
    "\n",
    "    for idx in range(len(array)):\n",
    "        circle_idx = plt.Circle((idx, 0), 0.5, facecolor=colors[idx], edgecolor='w')\n",
    "        ax.add_patch(circle_idx)\n",
    "        ax.text(idx, 0, s=str(array[idx]),\n",
    "                horizontalalignment='center',\n",
    "                verticalalignment='center')\n",
    "\n",
    "    ax.set_xlim(-0.6, 0.6 + len(array))\n",
    "    ax.set_ylim(-0.6, 0.6)\n",
    "    ax.set_aspect('equal', adjustable='box')\n",
    "    ax.axis('off')\n",
    "    fig.savefig('Figures/' + title + '.svg', format='svg')"
   ]
  },
  {
   "cell_type": "code",
   "execution_count": 4,
   "id": "c309c8d3-457f-499c-997c-0946a1e803db",
   "metadata": {
    "tags": []
   },
   "outputs": [
    {
     "data": {
      "text/plain": [
       "array([-7, -6, -5, -4, -3, -2, -1,  0,  1,  2,  3,  4,  5,  6,  7])"
      ]
     },
     "execution_count": 4,
     "metadata": {},
     "output_type": "execute_result"
    }
   ],
   "source": [
    "a_1D_array = np.arange(-7, 7 + 1)\n",
    "a_1D_array"
   ]
  },
  {
   "cell_type": "code",
   "execution_count": 5,
   "id": "c9e5cb51-07e6-4c28-bc10-24b3255e3cb6",
   "metadata": {
    "tags": []
   },
   "outputs": [
    {
     "data": {
      "image/png": "[encoded data removed]",
      "text/plain": [
       "<Figure size 640x480 with 1 Axes>"
      ]
     },
     "metadata": {},
     "output_type": "display_data"
    }
   ],
   "source": [
    "visualize_1D(a_1D_array, '1D数组')"
   ]
  },
  {
   "cell_type": "code",
   "execution_count": 6,
   "id": "1a573f3f-30df-474e-9247-4161e0e5d6e1",
   "metadata": {
    "tags": []
   },
   "outputs": [
    {
     "data": {
      "text/plain": [
       "15"
      ]
     },
     "execution_count": 6,
     "metadata": {},
     "output_type": "execute_result"
    }
   ],
   "source": [
    "len(a_1D_array)"
   ]
  },
  {
   "cell_type": "code",
   "execution_count": 7,
   "id": "0b8e0ccb-d3b6-4cc8-950d-91526e992058",
   "metadata": {
    "tags": []
   },
   "outputs": [
    {
     "data": {
      "text/plain": [
       "(15,)"
      ]
     },
     "execution_count": 7,
     "metadata": {},
     "output_type": "execute_result"
    }
   ],
   "source": [
    "a_1D_array.shape"
   ]
  },
  {
   "cell_type": "code",
   "execution_count": 8,
   "id": "baeac6f8-96d7-4b39-bb46-d5062b085a5c",
   "metadata": {
    "tags": []
   },
   "outputs": [
    {
     "data": {
      "text/plain": [
       "1"
      ]
     },
     "execution_count": 8,
     "metadata": {},
     "output_type": "execute_result"
    }
   ],
   "source": [
    "a_1D_array.ndim"
   ]
  },
  {
   "cell_type": "code",
   "execution_count": 10,
   "id": "90031d8c-c810-4adf-9913-4e41a55b502f",
   "metadata": {
    "tags": []
   },
   "outputs": [
    {
     "data": {
      "text/plain": [
       "array([[-7, -6, -5, -4, -3, -2, -1,  0,  1,  2,  3,  4,  5,  6,  7]])"
      ]
     },
     "execution_count": 10,
     "metadata": {},
     "output_type": "execute_result"
    }
   ],
   "source": [
    "a_row_vector = a_1D_array.reshape(1, -1)\n",
    "a_row_vector"
   ]
  },
  {
   "cell_type": "code",
   "execution_count": 12,
   "id": "bad3b2ad-fef1-4f8a-9761-12e69dc1b34c",
   "metadata": {
    "tags": []
   },
   "outputs": [
    {
     "data": {
      "text/plain": [
       "array([[-7, -6, -5, -4, -3, -2, -1,  0,  1,  2,  3,  4,  5,  6,  7]])"
      ]
     },
     "execution_count": 12,
     "metadata": {},
     "output_type": "execute_result"
    }
   ],
   "source": [
    "np.reshape(a_1D_array, (1, -1))"
   ]
  },
  {
   "cell_type": "code",
   "execution_count": 13,
   "id": "3fade898-4b19-4ed5-a4e8-401809167e41",
   "metadata": {
    "tags": []
   },
   "outputs": [
    {
     "data": {
      "text/plain": [
       "array([[-7, -6, -5, -4, -3, -2, -1,  0,  1,  2,  3,  4,  5,  6,  7]])"
      ]
     },
     "execution_count": 13,
     "metadata": {},
     "output_type": "execute_result"
    }
   ],
   "source": [
    "np.reshape(a_1D_array, (1, 15))"
   ]
  },
  {
   "cell_type": "code",
   "execution_count": 16,
   "id": "c3aedead-0be5-494f-b5ec-f8aed7f7ee9b",
   "metadata": {
    "tags": []
   },
   "outputs": [
    {
     "data": {
      "image/png": "[encoded data removed]",
      "text/plain": [
       "<Figure size 800x100 with 1 Axes>"
      ]
     },
     "metadata": {},
     "output_type": "display_data"
    }
   ],
   "source": [
    "visualize_2D(a_row_vector, '行向量', 7, -7)"
   ]
  },
  {
   "cell_type": "code",
   "execution_count": 17,
   "id": "819ec55e-6026-412a-be5b-941cea4009b9",
   "metadata": {
    "tags": []
   },
   "outputs": [
    {
     "data": {
      "text/plain": [
       "(1, 15)"
      ]
     },
     "execution_count": 17,
     "metadata": {},
     "output_type": "execute_result"
    }
   ],
   "source": [
    "a_row_vector.shape"
   ]
  },
  {
   "cell_type": "code",
   "execution_count": 18,
   "id": "79cf0546-1d06-44e2-809a-c27f734eee65",
   "metadata": {
    "tags": []
   },
   "outputs": [
    {
     "data": {
      "text/plain": [
       "2"
      ]
     },
     "execution_count": 18,
     "metadata": {},
     "output_type": "execute_result"
    }
   ],
   "source": [
    "a_row_vector.ndim"
   ]
  },
  {
   "cell_type": "code",
   "execution_count": 20,
   "id": "0d84bd6f-f536-4611-a458-c65233610343",
   "metadata": {
    "tags": []
   },
   "outputs": [
    {
     "data": {
      "text/plain": [
       "array([[-7, -6, -5, -4, -3, -2, -1,  0,  1,  2,  3,  4,  5,  6,  7]])"
      ]
     },
     "execution_count": 20,
     "metadata": {},
     "output_type": "execute_result"
    }
   ],
   "source": [
    "a_1D_array.reshape(1, 15)"
   ]
  },
  {
   "cell_type": "code",
   "execution_count": 21,
   "id": "3546cc25-f7c5-4899-8ca8-b29ece17ccd5",
   "metadata": {
    "tags": []
   },
   "outputs": [
    {
     "data": {
      "text/plain": [
       "array([[-7, -6, -5, -4, -3, -2, -1,  0,  1,  2,  3,  4,  5,  6,  7]])"
      ]
     },
     "execution_count": 21,
     "metadata": {},
     "output_type": "execute_result"
    }
   ],
   "source": [
    "a_1D_array.reshape(-1, 15)"
   ]
  },
  {
   "cell_type": "code",
   "execution_count": 22,
   "id": "c41b7a58-1ea3-4289-9f52-4cc4cb5b53a0",
   "metadata": {
    "tags": []
   },
   "outputs": [
    {
     "data": {
      "text/plain": [
       "array([[-7, -6, -5, -4, -3, -2, -1,  0,  1,  2,  3,  4,  5,  6,  7]])"
      ]
     },
     "execution_count": 22,
     "metadata": {},
     "output_type": "execute_result"
    }
   ],
   "source": [
    "a_1D_array.reshape(1, len(a_1D_array))"
   ]
  },
  {
   "cell_type": "code",
   "execution_count": 24,
   "id": "d38046b7-7b87-4b91-bd07-c5852077d096",
   "metadata": {
    "tags": []
   },
   "outputs": [
    {
     "data": {
      "text/plain": [
       "array([[-7],\n",
       "       [-6],\n",
       "       [-5],\n",
       "       [-4],\n",
       "       [-3],\n",
       "       [-2],\n",
       "       [-1],\n",
       "       [ 0],\n",
       "       [ 1],\n",
       "       [ 2],\n",
       "       [ 3],\n",
       "       [ 4],\n",
       "       [ 5],\n",
       "       [ 6],\n",
       "       [ 7]])"
      ]
     },
     "execution_count": 24,
     "metadata": {},
     "output_type": "execute_result"
    }
   ],
   "source": [
    "a_col_vector = a_1D_array.reshape(-1, 1)\n",
    "a_col_vector"
   ]
  },
  {
   "cell_type": "code",
   "execution_count": 25,
   "id": "915ebe3e-140c-4eca-90f6-51629f2ff778",
   "metadata": {
    "tags": []
   },
   "outputs": [
    {
     "data": {
      "image/png": "[encoded data removed]",
      "text/plain": [
       "<Figure size 100x800 with 1 Axes>"
      ]
     },
     "metadata": {},
     "output_type": "display_data"
    }
   ],
   "source": [
    "visualize_2D(a_col_vector, '列向量', 7, -7)"
   ]
  },
  {
   "cell_type": "code",
   "execution_count": 26,
   "id": "2c25ef25-6566-4ccc-b075-479317ab906b",
   "metadata": {
    "tags": []
   },
   "outputs": [
    {
     "data": {
      "text/plain": [
       "(15, 1)"
      ]
     },
     "execution_count": 26,
     "metadata": {},
     "output_type": "execute_result"
    }
   ],
   "source": [
    "a_col_vector.shape"
   ]
  },
  {
   "cell_type": "code",
   "execution_count": 27,
   "id": "3215b4f8-5c85-41cc-bf0c-0e8c545a05e0",
   "metadata": {
    "tags": []
   },
   "outputs": [
    {
     "data": {
      "text/plain": [
       "array([[-7],\n",
       "       [-6],\n",
       "       [-5],\n",
       "       [-4],\n",
       "       [-3],\n",
       "       [-2],\n",
       "       [-1],\n",
       "       [ 0],\n",
       "       [ 1],\n",
       "       [ 2],\n",
       "       [ 3],\n",
       "       [ 4],\n",
       "       [ 5],\n",
       "       [ 6],\n",
       "       [ 7]])"
      ]
     },
     "execution_count": 27,
     "metadata": {},
     "output_type": "execute_result"
    }
   ],
   "source": [
    "a_col_vector.reshape(-1, 1)"
   ]
  },
  {
   "cell_type": "code",
   "execution_count": 28,
   "id": "a28b7f2f-83e4-4f3f-9a9e-ac7c4aa3a7cf",
   "metadata": {
    "tags": []
   },
   "outputs": [
    {
     "data": {
      "text/plain": [
       "array([[-7],\n",
       "       [-6],\n",
       "       [-5],\n",
       "       [-4],\n",
       "       [-3],\n",
       "       [-2],\n",
       "       [-1],\n",
       "       [ 0],\n",
       "       [ 1],\n",
       "       [ 2],\n",
       "       [ 3],\n",
       "       [ 4],\n",
       "       [ 5],\n",
       "       [ 6],\n",
       "       [ 7]])"
      ]
     },
     "execution_count": 28,
     "metadata": {},
     "output_type": "execute_result"
    }
   ],
   "source": [
    "np.reshape(a_1D_array, (-1, 1))"
   ]
  },
  {
   "cell_type": "code",
   "execution_count": 29,
   "id": "b2a95898-e03e-4a32-b975-ed877dbbe445",
   "metadata": {
    "tags": []
   },
   "outputs": [
    {
     "data": {
      "text/plain": [
       "array([[-7],\n",
       "       [-6],\n",
       "       [-5],\n",
       "       [-4],\n",
       "       [-3],\n",
       "       [-2],\n",
       "       [-1],\n",
       "       [ 0],\n",
       "       [ 1],\n",
       "       [ 2],\n",
       "       [ 3],\n",
       "       [ 4],\n",
       "       [ 5],\n",
       "       [ 6],\n",
       "       [ 7]])"
      ]
     },
     "execution_count": 29,
     "metadata": {},
     "output_type": "execute_result"
    }
   ],
   "source": [
    "np.reshape(a_1D_array, (15, 1))"
   ]
  },
  {
   "cell_type": "code",
   "execution_count": 31,
   "id": "ef13f7d4-a226-4ae8-8c17-e820583c8533",
   "metadata": {
    "tags": []
   },
   "outputs": [
    {
     "data": {
      "text/plain": [
       "array([[-7],\n",
       "       [-6],\n",
       "       [-5],\n",
       "       [-4],\n",
       "       [-3],\n",
       "       [-2],\n",
       "       [-1],\n",
       "       [ 0],\n",
       "       [ 1],\n",
       "       [ 2],\n",
       "       [ 3],\n",
       "       [ 4],\n",
       "       [ 5],\n",
       "       [ 6],\n",
       "       [ 7]])"
      ]
     },
     "execution_count": 31,
     "metadata": {},
     "output_type": "execute_result"
    }
   ],
   "source": [
    "np.reshape(a_1D_array, (len(a_1D_array), 1))"
   ]
  },
  {
   "cell_type": "code",
   "execution_count": 32,
   "id": "00fc1a90-18fc-4377-a57f-47118dbaadd7",
   "metadata": {
    "tags": []
   },
   "outputs": [
    {
     "data": {
      "text/plain": [
       "array([[-7, -6, -5, -4, -3],\n",
       "       [-2, -1,  0,  1,  2],\n",
       "       [ 3,  4,  5,  6,  7]])"
      ]
     },
     "execution_count": 32,
     "metadata": {},
     "output_type": "execute_result"
    }
   ],
   "source": [
    "A_3_by_5 = a_1D_array.reshape(3, 5)\n",
    "A_3_by_5"
   ]
  },
  {
   "cell_type": "code",
   "execution_count": 33,
   "id": "d8a824a7-dbf9-4674-96ba-e34924095672",
   "metadata": {
    "tags": []
   },
   "outputs": [
    {
     "data": {
      "image/png": "[encoded data removed]",
      "text/plain": [
       "<Figure size 300x200 with 1 Axes>"
      ]
     },
     "metadata": {},
     "output_type": "display_data"
    }
   ],
   "source": [
    "visualize_2D(A_3_by_5, '矩阵，3 x 5', 7, -7)"
   ]
  },
  {
   "cell_type": "code",
   "execution_count": 34,
   "id": "e40eb706-0d42-45af-9973-2770f3dada22",
   "metadata": {
    "tags": []
   },
   "outputs": [
    {
     "data": {
      "text/plain": [
       "array([[-7, -6, -5, -4, -3],\n",
       "       [-2, -1,  0,  1,  2],\n",
       "       [ 3,  4,  5,  6,  7]])"
      ]
     },
     "execution_count": 34,
     "metadata": {},
     "output_type": "execute_result"
    }
   ],
   "source": [
    "a_1D_array.reshape(3, -1)"
   ]
  },
  {
   "cell_type": "code",
   "execution_count": 36,
   "id": "ef242fd1-ff89-4a3a-8082-086f5bf15512",
   "metadata": {
    "tags": []
   },
   "outputs": [
    {
     "data": {
      "text/plain": [
       "array([[-7, -6, -5, -4, -3],\n",
       "       [-2, -1,  0,  1,  2],\n",
       "       [ 3,  4,  5,  6,  7]])"
      ]
     },
     "execution_count": 36,
     "metadata": {},
     "output_type": "execute_result"
    }
   ],
   "source": [
    "a_1D_array.reshape(-1, 5)"
   ]
  },
  {
   "cell_type": "code",
   "execution_count": 39,
   "id": "b506bf06-5891-4fe8-951a-117aabb8af61",
   "metadata": {
    "tags": []
   },
   "outputs": [
    {
     "data": {
      "text/plain": [
       "array([[-7, -4, -1,  2,  5],\n",
       "       [-6, -3,  0,  3,  6],\n",
       "       [-5, -2,  1,  4,  7]])"
      ]
     },
     "execution_count": 39,
     "metadata": {},
     "output_type": "execute_result"
    }
   ],
   "source": [
    "A_3_by_5_col_order = a_1D_array.reshape(3, 5, order='F')\n",
    "A_3_by_5_col_order"
   ]
  },
  {
   "cell_type": "code",
   "execution_count": 40,
   "id": "97422cae-4438-4da0-b34e-3919156b3c87",
   "metadata": {
    "tags": []
   },
   "outputs": [
    {
     "data": {
      "image/png": "[encoded data removed]",
      "text/plain": [
       "<Figure size 300x200 with 1 Axes>"
      ]
     },
     "metadata": {},
     "output_type": "display_data"
    }
   ],
   "source": [
    "visualize_2D(A_3_by_5_col_order, '矩阵，3x5,先列后行', 7, -7)"
   ]
  },
  {
   "cell_type": "code",
   "execution_count": 42,
   "id": "d45a296f-ee7b-4f99-b1ab-282aa4532b69",
   "metadata": {
    "tags": []
   },
   "outputs": [
    {
     "data": {
      "text/plain": [
       "array([[-7, -6, -5],\n",
       "       [-4, -3, -2],\n",
       "       [-1,  0,  1],\n",
       "       [ 2,  3,  4],\n",
       "       [ 5,  6,  7]])"
      ]
     },
     "execution_count": 42,
     "metadata": {},
     "output_type": "execute_result"
    }
   ],
   "source": [
    "A_5_by_3 = a_1D_array.reshape(5, 3)\n",
    "A_5_by_3"
   ]
  },
  {
   "cell_type": "code",
   "execution_count": 43,
   "id": "416825aa-f370-4ff7-b662-2513cba76d15",
   "metadata": {
    "tags": []
   },
   "outputs": [
    {
     "data": {
      "text/plain": [
       "array([[-7, -6, -5],\n",
       "       [-4, -3, -2],\n",
       "       [-1,  0,  1],\n",
       "       [ 2,  3,  4],\n",
       "       [ 5,  6,  7]])"
      ]
     },
     "execution_count": 43,
     "metadata": {},
     "output_type": "execute_result"
    }
   ],
   "source": [
    "a_1D_array.reshape(5, -1)"
   ]
  },
  {
   "cell_type": "code",
   "execution_count": 44,
   "id": "f41a82e7-35ee-43b0-8f70-39d2e636fe19",
   "metadata": {
    "tags": []
   },
   "outputs": [
    {
     "data": {
      "text/plain": [
       "array([[-7, -6, -5],\n",
       "       [-4, -3, -2],\n",
       "       [-1,  0,  1],\n",
       "       [ 2,  3,  4],\n",
       "       [ 5,  6,  7]])"
      ]
     },
     "execution_count": 44,
     "metadata": {},
     "output_type": "execute_result"
    }
   ],
   "source": [
    "a_1D_array.reshape(-1, 3)"
   ]
  },
  {
   "cell_type": "code",
   "execution_count": 45,
   "id": "a88eff9c-79ac-47d6-a57b-d56e54e085ab",
   "metadata": {
    "tags": []
   },
   "outputs": [
    {
     "data": {
      "image/png": "[encoded data removed]",
      "text/plain": [
       "<Figure size 200x300 with 1 Axes>"
      ]
     },
     "metadata": {},
     "output_type": "display_data"
    }
   ],
   "source": [
    "visualize_2D(A_5_by_3, '矩阵，5x3，先行后列', 7, -7)"
   ]
  },
  {
   "cell_type": "code",
   "execution_count": 46,
   "id": "1a6ce4e2-0b1c-4cb4-a3c8-d2555f0e7029",
   "metadata": {
    "tags": []
   },
   "outputs": [
    {
     "data": {
      "text/plain": [
       "array([-13, -12, -11, -10,  -9,  -8,  -7,  -6,  -5,  -4,  -3,  -2,  -1,\n",
       "         0,   1,   2,   3,   4,   5,   6,   7,   8,   9,  10,  11,  12,\n",
       "        13])"
      ]
     },
     "execution_count": 46,
     "metadata": {},
     "output_type": "execute_result"
    }
   ],
   "source": [
    "a_1D_array_long = np.arange(-13, 13 + 1)\n",
    "a_1D_array_long"
   ]
  },
  {
   "cell_type": "code",
   "execution_count": 47,
   "id": "9bb288aa-2156-47a8-b8c1-ea548551083d",
   "metadata": {
    "tags": []
   },
   "outputs": [
    {
     "data": {
      "image/png": "[encoded data removed]",
      "text/plain": [
       "<Figure size 640x480 with 1 Axes>"
      ]
     },
     "metadata": {},
     "output_type": "display_data"
    }
   ],
   "source": [
    "visualize_1D(a_1D_array_long, '1D数组，27元素')"
   ]
  },
  {
   "cell_type": "code",
   "execution_count": 48,
   "id": "4b8c2c45-c69b-4747-9371-c99dc97578af",
   "metadata": {
    "tags": []
   },
   "outputs": [
    {
     "data": {
      "text/plain": [
       "array([[[-13, -12, -11],\n",
       "        [-10,  -9,  -8],\n",
       "        [ -7,  -6,  -5]],\n",
       "\n",
       "       [[ -4,  -3,  -2],\n",
       "        [ -1,   0,   1],\n",
       "        [  2,   3,   4]],\n",
       "\n",
       "       [[  5,   6,   7],\n",
       "        [  8,   9,  10],\n",
       "        [ 11,  12,  13]]])"
      ]
     },
     "execution_count": 48,
     "metadata": {},
     "output_type": "execute_result"
    }
   ],
   "source": [
    "A_3D_3_by_3_by_3 = a_1D_array_long.reshape(3,3,3)\n",
    "A_3D_3_by_3_by_3"
   ]
  },
  {
   "cell_type": "code",
   "execution_count": 49,
   "id": "5210eeef-998b-41e4-bae6-28e2664e2aa0",
   "metadata": {
    "tags": []
   },
   "outputs": [
    {
     "data": {
      "text/plain": [
       "array([[[-13, -12, -11],\n",
       "        [-10,  -9,  -8],\n",
       "        [ -7,  -6,  -5]],\n",
       "\n",
       "       [[ -4,  -3,  -2],\n",
       "        [ -1,   0,   1],\n",
       "        [  2,   3,   4]],\n",
       "\n",
       "       [[  5,   6,   7],\n",
       "        [  8,   9,  10],\n",
       "        [ 11,  12,  13]]])"
      ]
     },
     "execution_count": 49,
     "metadata": {},
     "output_type": "execute_result"
    }
   ],
   "source": [
    "a_1D_array_long.reshape(3,3,-1)"
   ]
  },
  {
   "cell_type": "code",
   "execution_count": 50,
   "id": "e25ed15b-1616-480e-aa9b-4184e7bdc603",
   "metadata": {
    "tags": []
   },
   "outputs": [
    {
     "data": {
      "image/png": "[encoded data removed]",
      "text/plain": [
       "<Figure size 200x200 with 1 Axes>"
      ]
     },
     "metadata": {},
     "output_type": "display_data"
    }
   ],
   "source": [
    "visualize_2D(A_3D_3_by_3_by_3[0,:,:], '3D_第一页', 13, -13)"
   ]
  },
  {
   "cell_type": "code",
   "execution_count": 51,
   "id": "294d3725-68df-4c8e-83bf-6c011f943bf6",
   "metadata": {
    "tags": []
   },
   "outputs": [
    {
     "data": {
      "image/png": "[encoded data removed]",
      "text/plain": [
       "<Figure size 200x200 with 1 Axes>"
      ]
     },
     "metadata": {},
     "output_type": "display_data"
    }
   ],
   "source": [
    "visualize_2D(A_3D_3_by_3_by_3[1,:,:], '3D_第二页', 13, -13)"
   ]
  },
  {
   "cell_type": "code",
   "execution_count": 52,
   "id": "2a82193b-618b-457f-b82c-eae30c746c3b",
   "metadata": {
    "tags": []
   },
   "outputs": [
    {
     "data": {
      "image/png": "[encoded data removed]",
      "text/plain": [
       "<Figure size 200x200 with 1 Axes>"
      ]
     },
     "metadata": {},
     "output_type": "display_data"
    }
   ],
   "source": [
    "visualize_2D(A_3D_3_by_3_by_3[2,:,:], '3D_第三页', 13, -13)"
   ]
  },
  {
   "cell_type": "code",
   "execution_count": 53,
   "id": "cf671bee-f415-4645-928b-f1d9b84de119",
   "metadata": {
    "tags": []
   },
   "outputs": [
    {
     "data": {
      "text/plain": [
       "True"
      ]
     },
     "execution_count": 53,
     "metadata": {},
     "output_type": "execute_result"
    }
   ],
   "source": [
    "np.shares_memory(a_1D_array, A_5_by_3)"
   ]
  },
  {
   "cell_type": "code",
   "execution_count": 54,
   "id": "b68cc9d7-6424-4682-a53a-6cb096181e30",
   "metadata": {
    "tags": []
   },
   "outputs": [
    {
     "data": {
      "text/plain": [
       "True"
      ]
     },
     "execution_count": 54,
     "metadata": {},
     "output_type": "execute_result"
    }
   ],
   "source": [
    "np.shares_memory(a_1D_array, a_col_vector)"
   ]
  },
  {
   "cell_type": "code",
   "execution_count": 55,
   "id": "c22e9829-70fc-4722-96db-c91a85df4525",
   "metadata": {
    "tags": []
   },
   "outputs": [
    {
     "data": {
      "text/plain": [
       "True"
      ]
     },
     "execution_count": 55,
     "metadata": {},
     "output_type": "execute_result"
    }
   ],
   "source": [
    "np.shares_memory(a_1D_array, a_row_vector)"
   ]
  },
  {
   "cell_type": "code",
   "execution_count": 56,
   "id": "5bf8d2e9-47fb-4a60-90b6-f003cf9bbfb8",
   "metadata": {
    "tags": []
   },
   "outputs": [
    {
     "name": "stdout",
     "output_type": "stream",
     "text": [
      "[1 2 3 4]\n",
      "[[0 2]\n",
      " [3 4]]\n"
     ]
    }
   ],
   "source": [
    "a = np.array([[1, 2], [3, 4]])\n",
    "b = a.reshape(4)\n",
    "print(b)     # [1 2 3 4]\n",
    "b[0] = 0\n",
    "print(a)     # [[0 2], [3 4]]"
   ]
  },
  {
   "cell_type": "code",
   "execution_count": 57,
   "id": "e1ff41ed-eba5-46f4-be18-ec7d59eed946",
   "metadata": {
    "tags": []
   },
   "outputs": [
    {
     "data": {
      "text/plain": [
       "array([-7, -6, -5, -4, -3, -2, -1,  0,  1,  2,  3,  4,  5,  6,  7])"
      ]
     },
     "execution_count": 57,
     "metadata": {},
     "output_type": "execute_result"
    }
   ],
   "source": [
    "a_1D_array.T"
   ]
  },
  {
   "cell_type": "code",
   "execution_count": 58,
   "id": "29395e16-0b3a-4137-a415-8e3b09f9cb19",
   "metadata": {
    "tags": []
   },
   "outputs": [
    {
     "data": {
      "text/plain": [
       "array([[-7],\n",
       "       [-6],\n",
       "       [-5],\n",
       "       [-4],\n",
       "       [-3],\n",
       "       [-2],\n",
       "       [-1],\n",
       "       [ 0],\n",
       "       [ 1],\n",
       "       [ 2],\n",
       "       [ 3],\n",
       "       [ 4],\n",
       "       [ 5],\n",
       "       [ 6],\n",
       "       [ 7]])"
      ]
     },
     "execution_count": 58,
     "metadata": {},
     "output_type": "execute_result"
    }
   ],
   "source": [
    "a_row_vector.T"
   ]
  },
  {
   "cell_type": "code",
   "execution_count": 59,
   "id": "c8646eba-0b98-4d02-9cfa-5982d61408b1",
   "metadata": {
    "tags": []
   },
   "outputs": [
    {
     "data": {
      "text/plain": [
       "array([[-7],\n",
       "       [-6],\n",
       "       [-5],\n",
       "       [-4],\n",
       "       [-3],\n",
       "       [-2],\n",
       "       [-1],\n",
       "       [ 0],\n",
       "       [ 1],\n",
       "       [ 2],\n",
       "       [ 3],\n",
       "       [ 4],\n",
       "       [ 5],\n",
       "       [ 6],\n",
       "       [ 7]])"
      ]
     },
     "execution_count": 59,
     "metadata": {},
     "output_type": "execute_result"
    }
   ],
   "source": [
    "np.transpose(a_row_vector)"
   ]
  },
  {
   "cell_type": "code",
   "execution_count": 60,
   "id": "b35a3a8a-7818-4df5-9a5c-ab77b6601d15",
   "metadata": {
    "tags": []
   },
   "outputs": [
    {
     "data": {
      "text/plain": [
       "array([[-7, -6, -5, -4, -3, -2, -1,  0,  1,  2,  3,  4,  5,  6,  7]])"
      ]
     },
     "execution_count": 60,
     "metadata": {},
     "output_type": "execute_result"
    }
   ],
   "source": [
    "a_col_vector.T"
   ]
  },
  {
   "cell_type": "code",
   "execution_count": 61,
   "id": "c1a0e6fb-6add-436f-8e4a-11f10a6ccc52",
   "metadata": {
    "tags": []
   },
   "outputs": [
    {
     "data": {
      "text/plain": [
       "array([[-7, -6, -5, -4, -3, -2, -1,  0,  1,  2,  3,  4,  5,  6,  7]])"
      ]
     },
     "execution_count": 61,
     "metadata": {},
     "output_type": "execute_result"
    }
   ],
   "source": [
    "np.transpose(a_col_vector)"
   ]
  },
  {
   "cell_type": "code",
   "execution_count": 62,
   "id": "110eb559-04e1-45f9-a60c-8f551f375368",
   "metadata": {
    "tags": []
   },
   "outputs": [
    {
     "data": {
      "text/plain": [
       "array([[-7, -2,  3],\n",
       "       [-6, -1,  4],\n",
       "       [-5,  0,  5],\n",
       "       [-4,  1,  6],\n",
       "       [-3,  2,  7]])"
      ]
     },
     "execution_count": 62,
     "metadata": {},
     "output_type": "execute_result"
    }
   ],
   "source": [
    "A_3_by_5_T = A_3_by_5.T\n",
    "A_3_by_5_T"
   ]
  },
  {
   "cell_type": "code",
   "execution_count": 63,
   "id": "6310fa45-014a-4c19-82d5-ab6213116d7f",
   "metadata": {
    "tags": []
   },
   "outputs": [
    {
     "data": {
      "image/png": "[encoded data removed]",
      "text/plain": [
       "<Figure size 200x300 with 1 Axes>"
      ]
     },
     "metadata": {},
     "output_type": "display_data"
    }
   ],
   "source": [
    "visualize_2D(A_3_by_5_T, '矩阵，3 x 5, 转置', 7, -7)"
   ]
  },
  {
   "cell_type": "code",
   "execution_count": 64,
   "id": "8b2540c2-7b87-4167-abf2-8b1ead07c3b6",
   "metadata": {
    "tags": []
   },
   "outputs": [
    {
     "data": {
      "text/plain": [
       "array([-7, -6, -5, -4, -3, -2, -1,  0,  1,  2,  3,  4,  5,  6,  7])"
      ]
     },
     "execution_count": 64,
     "metadata": {},
     "output_type": "execute_result"
    }
   ],
   "source": [
    "A_3_by_5.ravel()"
   ]
  },
  {
   "cell_type": "code",
   "execution_count": 65,
   "id": "ce8a679e-a6a9-4f7b-a017-acfcb5ee8c20",
   "metadata": {
    "tags": []
   },
   "outputs": [
    {
     "data": {
      "text/plain": [
       "array([-7, -6, -5, -4, -3, -2, -1,  0,  1,  2,  3,  4,  5,  6,  7])"
      ]
     },
     "execution_count": 65,
     "metadata": {},
     "output_type": "execute_result"
    }
   ],
   "source": [
    "A_3_by_5.reshape(-1)"
   ]
  },
  {
   "cell_type": "code",
   "execution_count": 66,
   "id": "48c471a2-a7b8-423d-b289-31f20947fa00",
   "metadata": {
    "tags": []
   },
   "outputs": [
    {
     "data": {
      "text/plain": [
       "array([-7, -2,  3, -6, -1,  4, -5,  0,  5, -4,  1,  6, -3,  2,  7])"
      ]
     },
     "execution_count": 66,
     "metadata": {},
     "output_type": "execute_result"
    }
   ],
   "source": [
    "A_3_by_5.ravel(order = 'F')"
   ]
  },
  {
   "cell_type": "code",
   "execution_count": 67,
   "id": "58f65759-63ec-48cf-91fd-bfb0aea00bdc",
   "metadata": {
    "tags": []
   },
   "outputs": [],
   "source": [
    "A_3_by_5_flatten = A_3_by_5.flatten()"
   ]
  },
  {
   "cell_type": "code",
   "execution_count": 68,
   "id": "b5ad7968-32e9-4901-af11-70b498ad1c43",
   "metadata": {
    "tags": []
   },
   "outputs": [
    {
     "data": {
      "text/plain": [
       "array([1000,   -6,   -5,   -4,   -3,   -2,   -1,    0,    1,    2,    3,\n",
       "          4,    5,    6,    7])"
      ]
     },
     "execution_count": 68,
     "metadata": {},
     "output_type": "execute_result"
    }
   ],
   "source": [
    "A_3_by_5_flatten[0] = 1000\n",
    "A_3_by_5_flatten"
   ]
  },
  {
   "cell_type": "code",
   "execution_count": 69,
   "id": "1f38d686-43f0-4ec2-a4ed-e934ae0cff59",
   "metadata": {
    "tags": []
   },
   "outputs": [
    {
     "data": {
      "text/plain": [
       "array([[-7, -6, -5, -4, -3],\n",
       "       [-2, -1,  0,  1,  2],\n",
       "       [ 3,  4,  5,  6,  7]])"
      ]
     },
     "execution_count": 69,
     "metadata": {},
     "output_type": "execute_result"
    }
   ],
   "source": [
    "A_3_by_5"
   ]
  },
  {
   "cell_type": "code",
   "execution_count": 70,
   "id": "e4356904-4ad5-4977-97d5-b01c1d4e1c7b",
   "metadata": {
    "tags": []
   },
   "outputs": [
    {
     "data": {
      "text/plain": [
       "array([[-3,  2,  7],\n",
       "       [-4,  1,  6],\n",
       "       [-5,  0,  5],\n",
       "       [-6, -1,  4],\n",
       "       [-7, -2,  3]])"
      ]
     },
     "execution_count": 70,
     "metadata": {},
     "output_type": "execute_result"
    }
   ],
   "source": [
    "np.rot90(A_3_by_5)"
   ]
  },
  {
   "cell_type": "code",
   "execution_count": 71,
   "id": "08f1c498-f0a0-41d9-8f1f-d3afd455b9b8",
   "metadata": {
    "tags": []
   },
   "outputs": [
    {
     "data": {
      "image/png": "[encoded data removed]",
      "text/plain": [
       "<Figure size 200x300 with 1 Axes>"
      ]
     },
     "metadata": {},
     "output_type": "display_data"
    }
   ],
   "source": [
    "visualize_2D(np.rot90(A_3_by_5), '逆时针旋转90度', 7, -7)"
   ]
  },
  {
   "cell_type": "code",
   "execution_count": 73,
   "id": "72368df1-58b6-4456-999a-9eac1a8f7a2f",
   "metadata": {
    "tags": []
   },
   "outputs": [],
   "source": [
    "A_3_by_5_anti_c_90 = np.rot90(A_3_by_5)"
   ]
  },
  {
   "cell_type": "code",
   "execution_count": 75,
   "id": "caddeff3-201b-4f30-a8b1-66df154228f1",
   "metadata": {
    "tags": []
   },
   "outputs": [
    {
     "data": {
      "text/plain": [
       "array([[-7, -6, -5, -4, -3],\n",
       "       [-2, -1,  0,  1,  2],\n",
       "       [ 3,  4,  5,  6,  7]])"
      ]
     },
     "execution_count": 75,
     "metadata": {},
     "output_type": "execute_result"
    }
   ],
   "source": [
    "A_3_by_5"
   ]
  },
  {
   "cell_type": "code",
   "execution_count": 74,
   "id": "93f20100-1697-42f8-8f5f-8bb4a3a6eb9f",
   "metadata": {
    "tags": []
   },
   "outputs": [
    {
     "data": {
      "text/plain": [
       "array([[ 7,  6,  5,  4,  3],\n",
       "       [ 2,  1,  0, -1, -2],\n",
       "       [-3, -4, -5, -6, -7]])"
      ]
     },
     "execution_count": 74,
     "metadata": {},
     "output_type": "execute_result"
    }
   ],
   "source": [
    "np.flip(A_3_by_5)"
   ]
  },
  {
   "cell_type": "code",
   "execution_count": 76,
   "id": "1c1a9976-86b7-4d88-8029-121f4bdf5be3",
   "metadata": {
    "tags": []
   },
   "outputs": [
    {
     "data": {
      "image/png": "[encoded data removed]",
      "text/plain": [
       "<Figure size 300x200 with 1 Axes>"
      ]
     },
     "metadata": {},
     "output_type": "display_data"
    }
   ],
   "source": [
    "visualize_2D(np.flip(A_3_by_5), '沿着所有轴翻转', 7, -7)"
   ]
  }
 ],
 "metadata": {
  "kernelspec": {
   "display_name": "Python 3 (ipykernel)",
   "language": "python",
   "name": "python3"
  },
  "language_info": {
   "codemirror_mode": {
    "name": "ipython",
    "version": 3
   },
   "file_extension": ".py",
   "mimetype": "text/x-python",
   "name": "python",
   "nbconvert_exporter": "python",
   "pygments_lexer": "ipython3",
   "version": "3.11.5"
  }
 },
 "nbformat": 4,
 "nbformat_minor": 5
}
