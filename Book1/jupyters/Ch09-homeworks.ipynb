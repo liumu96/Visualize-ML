{
 "cells": [
  {
   "cell_type": "markdown",
   "id": "1afb4e4f-0f1d-4b3b-9066-a2b073daaa08",
   "metadata": {
    "tags": []
   },
   "source": [
    "Q1. 参考代码 1，写一个名为 Circle 的类，参数为半径，定义两个方法分别计算圆的周长、面积。提 示，需要导入 math.pi 圆周率近似值。"
   ]
  },
  {
   "cell_type": "code",
   "execution_count": 96,
   "id": "1128f7c6-c8f7-4503-86fb-a09146287c68",
   "metadata": {
    "tags": []
   },
   "outputs": [
    {
     "name": "stdout",
     "output_type": "stream",
     "text": [
      "62.83185307179586\n",
      "314.1592653589793\n"
     ]
    }
   ],
   "source": [
    "import math\n",
    "class Circle:\n",
    "    def __init__(self, radius):\n",
    "        self.radius = radius\n",
    "    \n",
    "    def circumference(self):\n",
    "        return 2 * math.pi * self.radius\n",
    "    \n",
    "    def area(self):\n",
    "        return math.pi * self.radius**2\n",
    "\n",
    "circle_radius_10 = Circle(10)\n",
    "print(circle_radius_10.circumference())\n",
    "print(circle_radius_10.area())"
   ]
  },
  {
   "cell_type": "markdown",
   "id": "5362e185-d54b-4288-963a-29b5c2bc9f2e",
   "metadata": {
    "tags": []
   },
   "source": [
    "Q2. 在练习代码 5 时，再增加 4 个方法，分别计算最大值、最小值、极差 (最大值 – 最小值)、标准差。"
   ]
  },
  {
   "cell_type": "code",
   "execution_count": 97,
   "id": "e650279e-8e58-440a-a5c1-d1fa0f70db02",
   "metadata": {
    "tags": []
   },
   "outputs": [],
   "source": [
    "# 创建 ListStatistics 类\n",
    "class ListStatistics:\n",
    "    # 构造函数，用于初始化属性\n",
    "    def __init__(self, data):\n",
    "        # ListStatistics包含一个data属性来存储浮点数列表\n",
    "        self.data = data\n",
    "    \n",
    "    # 下面定义了4个方法\n",
    "    # 方法1：计算列表的长度，即元素的数量\n",
    "    def list_length(self):\n",
    "        return len(self.data)\n",
    "    # 方法2：计算列表元素之和\n",
    "    def list_sum(self):\n",
    "        return sum(self.data)\n",
    "    # 方法3：计算列表元素平均值\n",
    "    def list_mean(self):\n",
    "        return sum(self.data)/self.list_length()\n",
    "    # 方法4：计算列表元素方差\n",
    "    def list_variance(self, ddof = 1):\n",
    "        # Delta自由度 ddof 默认为 1；无偏样本方差\n",
    "        sum_squares = sum((x_i - self.list_mean())**2 \n",
    "                           for x_i in self.data)\n",
    "        return sum_squares/(self.list_length() - ddof)\n",
    "    # maxvalue\n",
    "    def list_max_value(self):\n",
    "        max_value = self.data[0]\n",
    "        for x_i in self.data:\n",
    "            if(max_value < x_i):\n",
    "                max_value = x_i\n",
    "        return max_value\n",
    "    # minvalue\n",
    "    def list_min_value(self):\n",
    "        min_value = self.data[0]\n",
    "        for x_i in self.data:\n",
    "            if(min_value > x_i):\n",
    "                min_value = x_i\n",
    "        return min_value\n",
    "    # range\n",
    "    def list_max_min_range(self):\n",
    "        return self.list_max_value() - self.list_min_value()\n",
    "    # standard variance\n",
    "    def list_standard_variance(self):\n",
    "        return math.sqrt(self.list_variance(0))\n",
    "    "
   ]
  },
  {
   "cell_type": "code",
   "execution_count": 101,
   "id": "69a0993a-0155-4902-a084-a48ee007da80",
   "metadata": {
    "tags": []
   },
   "outputs": [
    {
     "name": "stdout",
     "output_type": "stream",
     "text": [
      "max_value: 8.8\n",
      "min_value: 1.8\n",
      "max_min_range: 7.000000000000001\n",
      "standard_variance: 2.338134940502793\n"
     ]
    }
   ],
   "source": [
    "data = [8.8, 1.8, 7.8, 3.8, 2.8, 5.6, 3.9, 6.9]\n",
    "float_list = ListStatistics(data)\n",
    "print(f'max_value: {float_list.list_max_value()}')\n",
    "print(f'min_value: {float_list.list_min_value()}')\n",
    "print(f'max_min_range: {float_list.list_max_min_range()}')\n",
    "print(f'standard_variance: {float_list.list_standard_variance()}')"
   ]
  }
 ],
 "metadata": {
  "kernelspec": {
   "display_name": "Python 3 (ipykernel)",
   "language": "python",
   "name": "python3"
  },
  "language_info": {
   "codemirror_mode": {
    "name": "ipython",
    "version": 3
   },
   "file_extension": ".py",
   "mimetype": "text/x-python",
   "name": "python",
   "nbconvert_exporter": "python",
   "pygments_lexer": "ipython3",
   "version": "3.11.5"
  }
 },
 "nbformat": 4,
 "nbformat_minor": 5
}
