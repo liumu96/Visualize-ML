{
 "cells": [
  {
   "cell_type": "code",
   "execution_count": 1,
   "id": "12405d86-2192-4eb3-b905-93bbfba646bc",
   "metadata": {
    "tags": []
   },
   "outputs": [],
   "source": [
    "import pandas as pd\n",
    "import requests"
   ]
  },
  {
   "cell_type": "code",
   "execution_count": 2,
   "id": "50fca235-0cb7-4086-9b2f-a2aef787393c",
   "metadata": {
    "tags": []
   },
   "outputs": [],
   "source": [
    "url = 'https://fred.stlouisfed.org/data/SP500.txt'"
   ]
  },
  {
   "cell_type": "code",
   "execution_count": 4,
   "id": "e6bf08d6-e816-45df-a033-f191a21a1fdf",
   "metadata": {
    "tags": []
   },
   "outputs": [],
   "source": [
    "response = requests.get(url)"
   ]
  },
  {
   "cell_type": "code",
   "execution_count": 5,
   "id": "7f0d1fb1-4482-4b50-a978-a9b00e4868e8",
   "metadata": {
    "tags": []
   },
   "outputs": [],
   "source": [
    "if response.status_code == 200:\n",
    "    df = pd.read_csv(url,skiprows=44, sep='\\s+')\n",
    "else:\n",
    "    print(\"Failed to fetch data from the source\")"
   ]
  },
  {
   "cell_type": "code",
   "execution_count": 6,
   "id": "d15120c6-bcef-4823-a3f8-370c5994b002",
   "metadata": {
    "tags": []
   },
   "outputs": [],
   "source": [
    "df['DATE'] = pd.to_datetime(df['DATE'])\n",
    "df.set_index('DATE', inplace=True)"
   ]
  },
  {
   "cell_type": "code",
   "execution_count": 7,
   "id": "aad5d870-da3d-4add-a94d-124b37cbb44e",
   "metadata": {
    "tags": []
   },
   "outputs": [
    {
     "data": {
      "text/html": [
       "<div>\n",
       "<style scoped>\n",
       "    .dataframe tbody tr th:only-of-type {\n",
       "        vertical-align: middle;\n",
       "    }\n",
       "\n",
       "    .dataframe tbody tr th {\n",
       "        vertical-align: top;\n",
       "    }\n",
       "\n",
       "    .dataframe thead th {\n",
       "        text-align: right;\n",
       "    }\n",
       "</style>\n",
       "<table border=\"1\" class=\"dataframe\">\n",
       "  <thead>\n",
       "    <tr style=\"text-align: right;\">\n",
       "      <th></th>\n",
       "      <th>VALUE</th>\n",
       "    </tr>\n",
       "    <tr>\n",
       "      <th>DATE</th>\n",
       "      <th></th>\n",
       "    </tr>\n",
       "  </thead>\n",
       "  <tbody>\n",
       "    <tr>\n",
       "      <th>2013-12-06</th>\n",
       "      <td>1805.09</td>\n",
       "    </tr>\n",
       "    <tr>\n",
       "      <th>2013-12-09</th>\n",
       "      <td>1808.37</td>\n",
       "    </tr>\n",
       "    <tr>\n",
       "      <th>2013-12-10</th>\n",
       "      <td>1802.62</td>\n",
       "    </tr>\n",
       "    <tr>\n",
       "      <th>2013-12-11</th>\n",
       "      <td>1782.22</td>\n",
       "    </tr>\n",
       "    <tr>\n",
       "      <th>2013-12-12</th>\n",
       "      <td>1775.50</td>\n",
       "    </tr>\n",
       "  </tbody>\n",
       "</table>\n",
       "</div>"
      ],
      "text/plain": [
       "              VALUE\n",
       "DATE               \n",
       "2013-12-06  1805.09\n",
       "2013-12-09  1808.37\n",
       "2013-12-10  1802.62\n",
       "2013-12-11  1782.22\n",
       "2013-12-12  1775.50"
      ]
     },
     "execution_count": 7,
     "metadata": {},
     "output_type": "execute_result"
    }
   ],
   "source": [
    "df.head()"
   ]
  }
 ],
 "metadata": {
  "kernelspec": {
   "display_name": "Python 3 (ipykernel)",
   "language": "python",
   "name": "python3"
  },
  "language_info": {
   "codemirror_mode": {
    "name": "ipython",
    "version": 3
   },
   "file_extension": ".py",
   "mimetype": "text/x-python",
   "name": "python",
   "nbconvert_exporter": "python",
   "pygments_lexer": "ipython3",
   "version": "3.11.5"
  }
 },
 "nbformat": 4,
 "nbformat_minor": 5
}
